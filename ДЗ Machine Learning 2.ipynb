{
 "cells": [
  {
   "cell_type": "code",
   "execution_count": 11,
   "metadata": {},
   "outputs": [
    {
     "name": "stderr",
     "output_type": "stream",
     "text": [
      "[nltk_data] Downloading package stopwords to\n",
      "[nltk_data]     C:\\Users\\aab\\AppData\\Roaming\\nltk_data...\n",
      "[nltk_data]   Package stopwords is already up-to-date!\n"
     ]
    }
   ],
   "source": [
    "# На датасете lenta-ru-news.csv.bz2 построить классификатор для тем : \n",
    "# 'Россия', 'Мир', 'Экономика', 'Спорт', 'Культура' \n",
    "import pandas as pd\n",
    "import numpy as np\n",
    "import re\n",
    "import warnings\n",
    "import matplotlib.pyplot as plt\n",
    "import pickle as pkl\n",
    "from sklearn import linear_model\n",
    "from sklearn.metrics import accuracy_score, f1_score\n",
    "\n",
    "#Список стоп-слов\n",
    "import nltk\n",
    "nltk.download('stopwords')\n",
    "stop_words = []\n",
    "stop_words = nltk.corpus.stopwords.words('russian')\n",
    "\n",
    "# Лемматизатор\n",
    "import pymorphy2\n",
    "\n",
    "# Стеммер\n",
    "from nltk.stem.snowball import SnowballStemmer\n",
    "\n",
    "from sklearn.model_selection import train_test_split\n",
    "from sklearn.discriminant_analysis import LinearDiscriminantAnalysis\n",
    "from sklearn import model_selection, metrics\n",
    "\n",
    "warnings.filterwarnings('ignore')\n",
    "#print('The scikit-learn version is {}.'.format(sklearn.__version__))"
   ]
  },
  {
   "cell_type": "code",
   "execution_count": null,
   "metadata": {},
   "outputs": [],
   "source": [
    "df = pd.read_csv('lenta-ru-news.csv')"
   ]
  },
  {
   "cell_type": "code",
   "execution_count": null,
   "metadata": {},
   "outputs": [],
   "source": [
    "# оставим в таблице только необходимые рубрики 'Россия', 'Мир', 'Экономика', 'Спорт', 'Культура' \n",
    "df = df[df['topic'].isin(['Россия', 'Мир', 'Экономика', 'Спорт', 'Культура'])]"
   ]
  },
  {
   "cell_type": "code",
   "execution_count": 14,
   "metadata": {},
   "outputs": [
    {
     "data": {
      "text/plain": [
       "topic\n",
       "Культура     0.108724\n",
       "Мир          0.276111\n",
       "Россия       0.324260\n",
       "Спорт        0.130179\n",
       "Экономика    0.160726\n",
       "Name: topic, dtype: float64"
      ]
     },
     "execution_count": 14,
     "metadata": {},
     "output_type": "execute_result"
    }
   ],
   "source": [
    "# можно считать рубрики сбалансированными \n",
    "df.groupby('topic')['topic'].count() / df.shape[0]"
   ]
  },
  {
   "cell_type": "code",
   "execution_count": null,
   "metadata": {},
   "outputs": [],
   "source": [
    "pd.options.display.max_colwidth = 500\n",
    "df['text'].head()"
   ]
  },
  {
   "cell_type": "code",
   "execution_count": null,
   "metadata": {},
   "outputs": [],
   "source": [
    "# уберем из текста знаки пунктуации\n",
    "def delete_punctuation(s):\n",
    "    return ' '.join((re.sub(r'[№\"\\'/.:?!1234567890()%<>;,#$&@\\s+]', u' ', s)).split())\n",
    "\n",
    "df['text'] = df['text'].apply(lambda x: delete_punctuation(str(x)))"
   ]
  },
  {
   "cell_type": "code",
   "execution_count": null,
   "metadata": {},
   "outputs": [],
   "source": [
    "# выделяем целевую переменную\n",
    "def f(x):\n",
    "    return {\n",
    "        'Россия': 1,\n",
    "        'Мир': 2,\n",
    "        'Экономика' : 3,\n",
    "        'Спорт' : 4,\n",
    "        'Культура' : 5\n",
    "    }.get(x, 0)\n",
    "\n",
    "df['target'] = df['topic'].map(lambda x: f(x)) "
   ]
  },
  {
   "cell_type": "code",
   "execution_count": null,
   "metadata": {},
   "outputs": [],
   "source": [
    "# убираем стоп-слова\n",
    "df['text_2'] = df['text'].str.lower().str.split()\n",
    "df['text_2'] = df['text_2'].apply(lambda x: [item for item in x if item not in stop_words])"
   ]
  },
  {
   "cell_type": "code",
   "execution_count": null,
   "metadata": {},
   "outputs": [],
   "source": [
    "# Стеммер\n",
    "stemmer = SnowballStemmer(\"russian\") \n",
    "\n",
    "def stemming(words):\n",
    "    return ' '.join([stemmer.stem(w) for w in words])\n",
    "\n",
    "# Текст после стеммера\n",
    "df['text_s'] = df['text_2'].apply(lambda x: ' '.join([stemmer.stem(w) for w in x]))"
   ]
  },
  {
   "cell_type": "code",
   "execution_count": null,
   "metadata": {},
   "outputs": [],
   "source": [
    "# Лемматизатор\n",
    "morph = pymorphy2.MorphAnalyzer()\n",
    "\n",
    "def lemmatize(words):\n",
    "    return ' '.join([morph.parse(w)[0].normal_form for w in words])\n",
    "\n",
    "# Текст после лемматизатора\n",
    "df['text_l'] = df['text_2'].apply(lambda x: ' '.join([morph.parse(w)[0].normal_form for w in x]))"
   ]
  },
  {
   "cell_type": "code",
   "execution_count": null,
   "metadata": {},
   "outputs": [],
   "source": [
    "# сохраним промежуточный датасет\n",
    "# with open('lenta_dataset.pkl', 'wb') as f:\n",
    "#     pkl.dump(df, f)"
   ]
  },
  {
   "cell_type": "code",
   "execution_count": 2,
   "metadata": {},
   "outputs": [],
   "source": [
    "# загрузка датасета\n",
    "with open(\"lenta_dataset.pkl\", \"rb\") as f:\n",
    "    df = pkl.load(f)"
   ]
  },
  {
   "cell_type": "code",
   "execution_count": 3,
   "metadata": {},
   "outputs": [],
   "source": [
    "# Мешок слов\n",
    "from sklearn.feature_extraction.text import CountVectorizer\n",
    "vectorizer = CountVectorizer(max_features = 2000 )\n",
    "BOW = vectorizer.fit_transform(df['text_s'])"
   ]
  },
  {
   "cell_type": "code",
   "execution_count": 4,
   "metadata": {},
   "outputs": [],
   "source": [
    "X = pd.DataFrame(BOW.toarray(), index = df.index, columns = vectorizer.get_feature_names())"
   ]
  },
  {
   "cell_type": "code",
   "execution_count": 7,
   "metadata": {},
   "outputs": [],
   "source": [
    "y = df['target']"
   ]
  },
  {
   "cell_type": "code",
   "execution_count": 7,
   "metadata": {},
   "outputs": [],
   "source": [
    "X_train, X_test, y_train, y_test = train_test_split(X, y, test_size = 0.2, random_state = 42)"
   ]
  },
  {
   "cell_type": "code",
   "execution_count": 9,
   "metadata": {},
   "outputs": [
    {
     "name": "stdout",
     "output_type": "stream",
     "text": [
      "(494804, 10) (395843, 2000) (98961, 2000)\n"
     ]
    }
   ],
   "source": [
    "print(df.shape, X_train.shape, X_test.shape)"
   ]
  },
  {
   "cell_type": "code",
   "execution_count": 10,
   "metadata": {},
   "outputs": [
    {
     "data": {
      "text/plain": [
       "0.900324370206445"
      ]
     },
     "execution_count": 10,
     "metadata": {},
     "output_type": "execute_result"
    }
   ],
   "source": [
    "lm = linear_model.LogisticRegression(multi_class = 'ovr', solver = 'liblinear', random_state = 42)\n",
    "lm.fit(X_train, y_train)\n",
    "lm.score(X_test, y_test)"
   ]
  },
  {
   "cell_type": "code",
   "execution_count": 11,
   "metadata": {},
   "outputs": [
    {
     "name": "stdout",
     "output_type": "stream",
     "text": [
      "Train Accuracy:0.9051517899773395\n",
      "Train F1-Score(Micro):0.9051517899773396\n",
      "------\n",
      "Test Accuracy:0.900324370206445\n",
      "Test F1-Score(Micro):0.900324370206445\n"
     ]
    }
   ],
   "source": [
    "predicted_labels = lm.predict(X_test)\n",
    "train_pred = lm.predict(X_train)\n",
    "print('Train Accuracy:' + str(accuracy_score(y_train, train_pred)))\n",
    "print('Train F1-Score(Micro):' + str(f1_score(y_train, train_pred, average = 'micro')))\n",
    "print('------')\n",
    "print('Test Accuracy:' + str(accuracy_score(y_test, predicted_labels)))\n",
    "print('Test F1-Score(Micro):' + str(f1_score(y_test, predicted_labels,average = 'micro')))"
   ]
  },
  {
   "cell_type": "code",
   "execution_count": 12,
   "metadata": {},
   "outputs": [],
   "source": [
    "predictions = lm.predict(X_test)"
   ]
  },
  {
   "cell_type": "code",
   "execution_count": 13,
   "metadata": {},
   "outputs": [
    {
     "name": "stdout",
     "output_type": "stream",
     "text": [
      "[2 1 2 2 2 1 1 3 3 3]\n",
      "[2 1 2 2 2 1 1 5 3 3]\n"
     ]
    }
   ],
   "source": [
    "print(np.array(y_test[:10]))\n",
    "print(predictions[:10])"
   ]
  },
  {
   "cell_type": "code",
   "execution_count": 14,
   "metadata": {},
   "outputs": [
    {
     "data": {
      "text/plain": [
       "1    32094\n",
       "2    27397\n",
       "3    15775\n",
       "4    12846\n",
       "5    10849\n",
       "Name: target, dtype: int64"
      ]
     },
     "execution_count": 14,
     "metadata": {},
     "output_type": "execute_result"
    }
   ],
   "source": [
    "y_test.value_counts()"
   ]
  },
  {
   "cell_type": "code",
   "execution_count": 15,
   "metadata": {},
   "outputs": [
    {
     "data": {
      "text/plain": [
       "array([    0, 32355, 27703, 15428, 12808, 10667], dtype=int64)"
      ]
     },
     "execution_count": 15,
     "metadata": {},
     "output_type": "execute_result"
    }
   ],
   "source": [
    "np.bincount(predictions)"
   ]
  },
  {
   "cell_type": "code",
   "execution_count": 16,
   "metadata": {},
   "outputs": [
    {
     "data": {
      "text/plain": [
       "array([[28283,  2598,   759,   138,   316],\n",
       "       [ 2519, 24120,   384,    88,   286],\n",
       "       [  995,   492, 14203,    39,    46],\n",
       "       [  157,   119,    32, 12505,    33],\n",
       "       [  401,   374,    50,    38,  9986]], dtype=int64)"
      ]
     },
     "execution_count": 16,
     "metadata": {},
     "output_type": "execute_result"
    },
    {
     "data": {
      "image/png": "[encoded data removed]",
      "text/plain": [
       "<Figure size 720x432 with 2 Axes>"
      ]
     },
     "metadata": {
      "needs_background": "light"
     },
     "output_type": "display_data"
    }
   ],
   "source": [
    "# нарисуем Confusion Matrix, чтобы посмотреть, какие темы модель чаще всего путает\n",
    "fig, ax = plt.subplots(figsize = (10, 6))\n",
    "ax.set_title('Confusion Matrix')\n",
    "class_names = ['Россия', 'Мир', 'Экономика', 'Спорт', 'Культура']\n",
    "\n",
    "disp = metrics.plot_confusion_matrix(lm, X_test, y_test, ax = ax, display_labels = class_names)\n",
    "disp.confusion_matrix"
   ]
  },
  {
   "cell_type": "markdown",
   "metadata": {},
   "source": [
    "Большая часть ошибок случается на пересечении тем \"Россия\" и \"Мир\". "
   ]
  },
  {
   "cell_type": "code",
   "execution_count": 3,
   "metadata": {},
   "outputs": [],
   "source": [
    "# теперь применим модель TF-IDF с логистической регрессией\n",
    "from sklearn.feature_extraction.text import TfidfVectorizer\n",
    "from nltk.tokenize.casual import casual_tokenize"
   ]
  },
  {
   "cell_type": "code",
   "execution_count": 4,
   "metadata": {},
   "outputs": [],
   "source": [
    "tfidf_model = TfidfVectorizer(tokenizer = casual_tokenize, max_features = 2000)\n",
    "tfidf_docs = tfidf_model.fit_transform(raw_documents = df['text_s']).toarray()"
   ]
  },
  {
   "cell_type": "code",
   "execution_count": 5,
   "metadata": {},
   "outputs": [],
   "source": [
    "X2 = pd.DataFrame(tfidf_docs, index = df.index, columns = tfidf_model.get_feature_names())"
   ]
  },
  {
   "cell_type": "code",
   "execution_count": 8,
   "metadata": {},
   "outputs": [],
   "source": [
    "X2_train, X2_test, y2_train, y2_test = train_test_split(X2, y, test_size = 0.2, random_state = 42)"
   ]
  },
  {
   "cell_type": "code",
   "execution_count": 9,
   "metadata": {},
   "outputs": [
    {
     "name": "stdout",
     "output_type": "stream",
     "text": [
      "(494804, 10) (395843, 2000) (98961, 2000)\n"
     ]
    }
   ],
   "source": [
    "print(df.shape, X2_train.shape, X2_test.shape)"
   ]
  },
  {
   "cell_type": "code",
   "execution_count": 12,
   "metadata": {},
   "outputs": [
    {
     "data": {
      "text/plain": [
       "0.9006376249229494"
      ]
     },
     "execution_count": 12,
     "metadata": {},
     "output_type": "execute_result"
    }
   ],
   "source": [
    "lm2 = linear_model.LogisticRegression(multi_class = 'ovr', solver = 'liblinear', random_state = 42)\n",
    "lm2.fit(X2_train, y2_train)\n",
    "lm2.score(X2_test, y2_test)"
   ]
  },
  {
   "cell_type": "code",
   "execution_count": 13,
   "metadata": {},
   "outputs": [
    {
     "name": "stdout",
     "output_type": "stream",
     "text": [
      "Train Accuracy: 0.9034086746513138\n",
      "Train F1-Score(Micro): 0.9034086746513138\n",
      "------\n",
      "Test Accuracy: 0.9006376249229494\n",
      "Test F1-Score(Micro): 0.9006376249229494\n"
     ]
    }
   ],
   "source": [
    "predicted_labels = lm2.predict(X2_test)\n",
    "train_pred = lm2.predict(X2_train)\n",
    "print('Train Accuracy: ' + str(accuracy_score(y2_train, train_pred)))\n",
    "print('Train F1-Score(Micro): '+ str(f1_score(y2_train, train_pred, average = 'micro')))\n",
    "print('------')\n",
    "print('Test Accuracy: ' + str(accuracy_score(y2_test, predicted_labels)))\n",
    "print('Test F1-Score(Micro): ' + str(f1_score(y2_test, predicted_labels, average = 'micro')))"
   ]
  },
  {
   "cell_type": "markdown",
   "metadata": {},
   "source": [
    "Качество моделей, как в случае преобразования \"Мешок слов\", так и в случае TF-IDF высокое. Разница между метриками моделей незначительная. "
   ]
  }
 ],
 "metadata": {
  "kernelspec": {
   "display_name": "Python 3",
   "language": "python",
   "name": "python3"
  },
  "language_info": {
   "codemirror_mode": {
    "name": "ipython",
    "version": 3
   },
   "file_extension": ".py",
   "mimetype": "text/x-python",
   "name": "python",
   "nbconvert_exporter": "python",
   "pygments_lexer": "ipython3",
   "version": "3.8.5"
  }
 },
 "nbformat": 4,
 "nbformat_minor": 4
}
