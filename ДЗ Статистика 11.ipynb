{
 "cells": [
  {
   "cell_type": "markdown",
   "metadata": {
    "id": "pDrecLU-4QjS"
   },
   "source": [
    "# Практика"
   ]
  },
  {
   "cell_type": "markdown",
   "metadata": {
    "id": "gUvTNDlMaV-a"
   },
   "source": [
    "## Определение вероятности. События\n",
    "\n",
    "Требуется сгенерировать необходимые выборки и произвести по ним расчеты"
   ]
  },
  {
   "cell_type": "code",
   "execution_count": 1,
   "metadata": {},
   "outputs": [
    {
     "name": "stderr",
     "output_type": "stream",
     "text": [
      "C:\\Users\\aab\\anaconda3\\lib\\site-packages\\pandas\\core\\computation\\expressions.py:20: UserWarning: Pandas requires version '2.7.3' or newer of 'numexpr' (version '2.7.1' currently installed).\n",
      "  from pandas.core.computation.check import NUMEXPR_INSTALLED\n"
     ]
    }
   ],
   "source": [
    "import pandas as pd\n",
    "import numpy as np\n",
    "import matplotlib.pyplot as plt\n",
    "import random\n",
    "import scipy.stats as sts\n",
    "%matplotlib inline\n",
    "from itertools import product\n",
    "import warnings\n",
    "warnings.filterwarnings('ignore')"
   ]
  },
  {
   "cell_type": "markdown",
   "metadata": {
    "id": "5V70InEBTgup"
   },
   "source": [
    "### Задача 1\n",
    "Брошено две монеты. Найти вероятность того, что монеты выпали разными сторонами"
   ]
  },
  {
   "cell_type": "code",
   "execution_count": 2,
   "metadata": {},
   "outputs": [
    {
     "name": "stdout",
     "output_type": "stream",
     "text": [
      "Вероятность того, что монеты выпали разными сторонами: 0.50003\n"
     ]
    }
   ],
   "source": [
    "# определяем исходы\n",
    "Coin_1 = Coin_2 = [\"Орел\", 'Решка']\n",
    "\n",
    "# задаем число экспериментов\n",
    "n = 100000\n",
    "\n",
    "# формируем выборку\n",
    "A = pd.DataFrame({'Coin_1': random.choices(Coin_1, k = n)\n",
    "                  ,'Coin_2': random.choices(Coin_2, k = n)})\n",
    "\n",
    "# считаем статистику \n",
    "P_different = len(A[A['Coin_1'] != A['Coin_2']]) / A.shape[0]\n",
    "print(f'Вероятность того, что монеты выпали разными сторонами: {P_different}')"
   ]
  },
  {
   "cell_type": "markdown",
   "metadata": {
    "id": "t0XOMos2Tl0e"
   },
   "source": [
    "### Задача 2\n",
    "Брошено три монеты. Описать множество всех элементарных событий. Найти вероятности следующих событий:\n",
    "\n",
    "\n",
    "1.   A = {не выпало ни одного герба}\n",
    "2.   B = {выпало четное число гербов}\n",
    "3.   C = {на третьей монете выпал герб}\n"
   ]
  },
  {
   "cell_type": "code",
   "execution_count": 3,
   "metadata": {
    "id": "o7NjAE9uUo-L"
   },
   "outputs": [
    {
     "name": "stdout",
     "output_type": "stream",
     "text": [
      "Множество всех элементарных событий:\n",
      "\n",
      "Орел Орел Орел\n",
      "Орел Орел Решка\n",
      "Орел Решка Орел\n",
      "Орел Решка Решка\n",
      "Решка Орел Орел\n",
      "Решка Орел Решка\n",
      "Решка Решка Орел\n",
      "Решка Решка Решка\n",
      "\n",
      "\n",
      "Вероятность выпадения всех орлов: 0.125\n",
      "Вероятность выпадения одного орла и двух решек: 0.375\n",
      "Вероятность выпадения одной решки и двух орлов: 0.375\n",
      "Вероятность выпадения всех решек: 0.125\n",
      "\n",
      "\n",
      "Эмпирическая вероятность события \"не выпало ни одного герба\": 0.12472\n",
      "Эмпирическая вероятность события \"выпало четное число гербов\": 0.50312\n",
      "Эмпирическая вероятность события \"на третьей монете выпал герб\": 0.50163\n"
     ]
    }
   ],
   "source": [
    "# определяем исходы\n",
    "Coin_1 = Coin_2 = Coin_3 = [\"Орел\", 'Решка']\n",
    "# для простоты расчетов применим исходы в виде чисел\n",
    "C_1 = C_2 = C_3 = [1, 0]\n",
    "\n",
    "# находим множество всех элементарных событий\n",
    "print(f'Множество всех элементарных событий:\\n')\n",
    "for c1, c2, c3 in product(Coin_1, Coin_2, Coin_3):\n",
    "    print(c1, c2, c3)\n",
    "    \n",
    "print('\\n')\n",
    "print(f'Вероятность выпадения всех орлов: {1/8}')  \n",
    "print(f'Вероятность выпадения одного орла и двух решек: {3/8}')  \n",
    "print(f'Вероятность выпадения одной решки и двух орлов: {3/8}')  \n",
    "print(f'Вероятность выпадения всех решек: {1/8}')  \n",
    "print('\\n')\n",
    "\n",
    "# задаем число экспериментов\n",
    "n = 100000\n",
    "\n",
    "# формируем выборку\n",
    "A = pd.DataFrame({'Coin_1': random.choices(C_1, k = n)\n",
    "                  ,'Coin_2': random.choices(C_2, k = n)\n",
    "                  ,'Coin_3': random.choices(C_3, k = n)})\n",
    "\n",
    "# считаем статистику \n",
    "# не выпало ни одного герба\n",
    "x = A.sum(axis = 1)\n",
    "print(f'Эмпирическая вероятность события \"не выпало ни одного герба\": {len(x[x == 0]) / len(x)}')\n",
    "\n",
    "# выпало четное число гербов\n",
    "print(f'Эмпирическая вероятность события \"выпало четное число гербов\": {len(x[x == 0] | x[x == 2]) / len(x)}')\n",
    "\n",
    "# на третьей монете выпал герб\n",
    "print(f'Эмпирическая вероятность события \"на третьей монете выпал герб\": {A[\"Coin_3\"].sum() / A.shape[0]}')\n",
    "\n"
   ]
  },
  {
   "cell_type": "markdown",
   "metadata": {},
   "source": [
    "Предлагается также решить задачи: \n",
    "\n",
    "### Задача 3\n",
    "Из двух претендентов E и L на ответственную должность три члена комиссии должны отобрать одного. Каждый член комиссии должен указать либо одного достойного, либо забраковать обоих. Претендент считается выбранным, если он был признана достойным хотя бы двумя членами комиссии.\n",
    "Найти вероятность событий:\n",
    "\n",
    "A = {рекомендован L}, B = {рекомендован E}\n"
   ]
  },
  {
   "cell_type": "code",
   "execution_count": 4,
   "metadata": {},
   "outputs": [
    {
     "name": "stdout",
     "output_type": "stream",
     "text": [
      "Вероятность события \"рекомендован кандидат L\": 0.25926\n",
      "Вероятность события \"рекомендован кандидат Е\": 0.25926\n"
     ]
    }
   ],
   "source": [
    "# определяем исходы: Е - выбран претендент Е, L - выбран претендент L, 0 - оба забракованы\n",
    "C1 = C2 = C3 = ['E', 'L', '0']\n",
    "\n",
    "# образуем матрицу исходов и посчитаем количество голосов за кандидатов\n",
    "df = pd.DataFrame(product(C2, C2, C3), columns = ['C1', 'C2', 'C3'])\n",
    "\n",
    "def count(df):\n",
    "    df['E_votes'] = np.sum(df == 'E')\n",
    "    df['L_votes'] = np.sum(df == 'L')\n",
    "    return df\n",
    "\n",
    "df = df.apply(count, axis = 1)\n",
    "\n",
    "# рекомендован кандидат L\n",
    "print(f'Вероятность события \"рекомендован кандидат L\": {round(df[df[\"L_votes\"] > 1].shape[0] / df.shape[0], 5)}')\n",
    "\n",
    "# рекомендован кандидат L\n",
    "print(f'Вероятность события \"рекомендован кандидат Е\": {round(df[df[\"E_votes\"] > 1].shape[0] / df.shape[0], 5)}')\n"
   ]
  },
  {
   "cell_type": "markdown",
   "metadata": {
    "id": "peM38mVfYa5B"
   },
   "source": [
    "### Задача 4\n",
    "Брошено две игральных кости. Описать множество элементарных событий. Найти вероятности событий:\n",
    "\n",
    "A = {вышло две \"шестерки\"}\n",
    "\n",
    "B = {сумма выпавших очков не меньше 11}\n",
    "\n",
    "C = {не выпала ни одна \"шестерка\"}"
   ]
  },
  {
   "cell_type": "code",
   "execution_count": 19,
   "metadata": {},
   "outputs": [
    {
     "name": "stdout",
     "output_type": "stream",
     "text": [
      "Множество всех элементарных событий:\n",
      "\n",
      "(1, 1)  (1, 2)  (1, 3)  (1, 4)  (1, 5)  (1, 6)  (2, 1)  (2, 2)  (2, 3)  (2, 4)  (2, 5)  (2, 6)  (3, 1)  (3, 2)  (3, 3)  (3, 4)  (3, 5)  (3, 6)  (4, 1)  (4, 2)  (4, 3)  (4, 4)  (4, 5)  (4, 6)  (5, 1)  (5, 2)  (5, 3)  (5, 4)  (5, 5)  (5, 6)  (6, 1)  (6, 2)  (6, 3)  (6, 4)  (6, 5)  (6, 6)  \n",
      "\n",
      "Вероятность события \"вышло две \"шестерки\"\": 0.02778\n",
      "\n",
      "Вероятность события \"сумма выпавших очков не меньше 11\": 0.08333\n",
      "\n",
      "Вероятность события \"не выпала ни одна \"шестерка\"\": 0.69444\n"
     ]
    }
   ],
   "source": [
    "# определяем исходы: \n",
    "Dice_1 = Dice_2 = list(range(1, 7))\n",
    "\n",
    "# множество элементарных событий можно описать двумя способами, зависящими от постановки задачи:\n",
    "# 1) элементарное событие - сумма выпавших значений, например \"1\" + \"4\" = \"5\"\n",
    "# 2) элементарное событие - отдельные выпавшие значения \"выпали значения 1 и 4\"\n",
    "print(f'Множество всех элементарных событий:\\n')\n",
    "for c1, c2 in product(Dice_1, Dice_2):\n",
    "    print((c1, c2), end = '  ')\n",
    "    \n",
    "df = pd.DataFrame(product(Dice_1, Dice_2), columns = ['Dice_1', 'Dice_2'])    \n",
    "df['Total'] = df['Dice_1'] + df['Dice_2']\n",
    "\n",
    "# вышло две \"шестерки\"\n",
    "print(f'\\n\\nВероятность события \"вышло две \"шестерки\"\": {round(df[(df[\"Dice_1\"] == 6) & (df[\"Dice_2\"] == 6)].shape[0] / df.shape[0], 5)}')\n",
    "\n",
    "# сумма выпавших очков не меньше 11\n",
    "print(f'\\nВероятность события \"сумма выпавших очков не меньше 11\": {round(df[df[\"Total\"] >= 11].shape[0] / df.shape[0], 5)}')\n",
    "\n",
    "# не выпала ни одна \"шестерка\"\n",
    "print(f'\\nВероятность события \"не выпала ни одна \"шестерка\"\": {round(df[(df[\"Dice_1\"] != 6) & (df[\"Dice_2\"] != 6)].shape[0] / df.shape[0], 5)}')\n"
   ]
  },
  {
   "cell_type": "code",
   "execution_count": 1,
   "metadata": {},
   "outputs": [],
   "source": [
    "# способ генерации комбинаций без повторов\n",
    "# from itertools import combinations_with_replacement\n",
    "# dice = list(range(1, 7))\n",
    "# print(list(combinations_with_replacement(dice, 2)))"
   ]
  },
  {
   "cell_type": "markdown",
   "metadata": {
    "id": "f-Bi0p8haclB"
   },
   "source": [
    "## Вероятность суммы событий"
   ]
  },
  {
   "cell_type": "markdown",
   "metadata": {
    "id": "g7A7QlvGTnwZ"
   },
   "source": [
    "### Задача 5\n",
    "Брошены две игральные кости. Найти вероятность события D = {выпала хотя бы одна шестёрка}\n"
   ]
  },
  {
   "cell_type": "code",
   "execution_count": 20,
   "metadata": {
    "id": "vjtTJN-kUp9D"
   },
   "outputs": [
    {
     "name": "stdout",
     "output_type": "stream",
     "text": [
      "\n",
      "\n",
      "Вероятность события \"выпала хотя бы одна шестёрка\": 0.30556\n"
     ]
    }
   ],
   "source": [
    "# определяем исходы: \n",
    "Dice_1 = Dice_2 = list(range(1, 7))\n",
    "\n",
    "df = pd.DataFrame(product(Dice_1, Dice_2), columns = ['Dice_1', 'Dice_2'])    \n",
    "df['Total'] = df['Dice_1'] + df['Dice_2']\n",
    "\n",
    "# выпала хотя бы одна шестёрка\n",
    "print(f'\\n\\nВероятность события \"выпала хотя бы одна шестёрка\": {round(df[(df[\"Dice_1\"] == 6) | (df[\"Dice_2\"] == 6)].shape[0] / df.shape[0], 5)}')\n"
   ]
  },
  {
   "cell_type": "markdown",
   "metadata": {
    "id": "R1bYSzQQbC6I"
   },
   "source": [
    "Предлагается также решить задачи: \n",
    "\n",
    "### Задача 6\n",
    "В телефонном номере три последние цифры стерлись. Считая, что все возможные значения стершихся цифр равновероятны, найти вероятность событий:\n",
    "\n",
    "A = {Стерлись различные цифры},\n",
    "\n",
    "B = {Стерлись одинаковые цифры},\n",
    "\n",
    "C = {Среди стершихся цифр хотя бы две совпадают},\n",
    "\n",
    "D = {Среди стершихся цифр хотя бы две различны}\n"
   ]
  },
  {
   "cell_type": "code",
   "execution_count": 37,
   "metadata": {},
   "outputs": [
    {
     "name": "stdout",
     "output_type": "stream",
     "text": [
      "\n",
      "Вероятность события \"Стерлись различные цифры\": \n",
      "    0.72\n",
      "\n",
      "Вероятность события \"Стерлись одинаковые цифры\": \n",
      "    0.01\n",
      "\n",
      "Вероятность события \"Среди стершихся цифр хотя бы две совпадают\": \n",
      "    0.28\n",
      "\n",
      "Вероятность события \"Среди стершихся цифр хотя бы две различны\": \n",
      "    0.99\n"
     ]
    }
   ],
   "source": [
    "# определяем исходы: \n",
    "Number_1 = Number_2 = Number_3 = list(range(0, 10))\n",
    "\n",
    "df = pd.DataFrame(product(Number_1, Number_2, Number_3), columns = ['Number_1', 'Number_2', 'Number_3'])    \n",
    "\n",
    "# Стерлись различные цифры\n",
    "print(f'''\\nВероятность события \"Стерлись различные цифры\": \n",
    "    {round(df[(df[\"Number_1\"] != df[\"Number_2\"]) & (df[\"Number_1\"] != df[\"Number_3\"]) & (df[\"Number_2\"] != df[\"Number_3\"])]\n",
    "        .shape[0] / df.shape[0], 5)}''')\n",
    "\n",
    "# Стерлись одинаковые цифры\n",
    "print(f'''\\nВероятность события \"Стерлись одинаковые цифры\": \n",
    "    {round(df[(df[\"Number_1\"] == df[\"Number_2\"]) & (df[\"Number_1\"] == df[\"Number_3\"]) & (df[\"Number_2\"] == df[\"Number_3\"])]\n",
    "        .shape[0] / df.shape[0], 5)}''')\n",
    "\n",
    "# Среди стершихся цифр хотя бы две совпадают\n",
    "print(f'''\\nВероятность события \"Среди стершихся цифр хотя бы две совпадают\": \n",
    "    {round(df[(df[\"Number_1\"] == df[\"Number_2\"]) | (df[\"Number_1\"] == df[\"Number_3\"]) | (df[\"Number_2\"] == df[\"Number_3\"])]\n",
    "        .shape[0] / df.shape[0], 5)}''')\n",
    "\n",
    "# Среди стершихся цифр хотя бы две различны\n",
    "print(f'''\\nВероятность события \"Среди стершихся цифр хотя бы две различны\": \n",
    "    {round(df[(df[\"Number_1\"] != df[\"Number_2\"]) | (df[\"Number_1\"] != df[\"Number_3\"]) | (df[\"Number_2\"] != df[\"Number_3\"])]\n",
    "        .shape[0] / df.shape[0], 5)}''')"
   ]
  },
  {
   "cell_type": "markdown",
   "metadata": {
    "id": "RnugkR8BalK_"
   },
   "source": [
    "## Случайные величины"
   ]
  },
  {
   "cell_type": "markdown",
   "metadata": {
    "id": "yLoZDZ17UVsp"
   },
   "source": [
    "### Задача 7\n",
    "В лотерее имеется 10 билетов, из которых один выигрышный. Размер выигрыша 10 ден. ед.; стоимость билета 1 ден ед. Найти закон распределения случайной величины X, равной чистому выигрышу участника лотереи, который вытаскивает билет первым."
   ]
  },
  {
   "cell_type": "code",
   "execution_count": 18,
   "metadata": {
    "id": "oNk432sKUqzT"
   },
   "outputs": [
    {
     "name": "stdout",
     "output_type": "stream",
     "text": [
      "Выборка случайной величины: [-1, -1, 9, -1, -1, -1, -1, -1, -1, -1]\n"
     ]
    }
   ],
   "source": [
    "# случайная величина определяется распределением Бернулли\n",
    "# вероятность успеха = 0.1\n",
    "bernoulli_rv = sts.bernoulli(0.1) \n",
    "\n",
    "x = bernoulli_rv.rvs(10)\n",
    "\n",
    "# учтем затраты на покупку билета\n",
    "result = [-1 if i == 0 else 9 for i in x]\n",
    "print(f'Выборка случайной величины: {result}')"
   ]
  },
  {
   "cell_type": "code",
   "execution_count": 31,
   "metadata": {},
   "outputs": [
    {
     "data": {
      "image/png": "[encoded data removed]",
      "text/plain": [
       "<Figure size 432x288 with 1 Axes>"
      ]
     },
     "metadata": {
      "needs_background": "light"
     },
     "output_type": "display_data"
    }
   ],
   "source": [
    "x = np.linspace(0, 2, 20)\n",
    "cdf = bernoulli_rv.cdf(x) # массив из значений функции распределения\n",
    "ccdf = [-1 if i == 0.9 else 9 for i in cdf] # корректировка на величину выигрыша\n",
    "plt.plot(x, ccdf, color = \"darkblue\")\n",
    "plt.ylabel(\"$f(x)$\")\n",
    "plt.xlabel(\"$x$\")\n",
    "plt.plot();"
   ]
  },
  {
   "cell_type": "markdown",
   "metadata": {
    "id": "U-NK9liSbpvb"
   },
   "source": [
    "Предлагается также решить задачу: \n",
    "\n",
    "### Задача 8\n",
    "Брошены две игральные кости. Найти закон распределения случайной величины $X$, равной сумме выпавших очков. Найти вероятности событий ${X <= 4}$, ${X > 4}$"
   ]
  },
  {
   "cell_type": "code",
   "execution_count": 45,
   "metadata": {},
   "outputs": [
    {
     "data": {
      "image/png": "[encoded data removed]",
      "text/plain": [
       "<Figure size 432x288 with 1 Axes>"
      ]
     },
     "metadata": {
      "needs_background": "light"
     },
     "output_type": "display_data"
    },
    {
     "name": "stdout",
     "output_type": "stream",
     "text": [
      "Вероятность получить не более 4 очков при броске двух кубиков: 0.16667\n",
      "Вероятность получить более 4 очков при броске двух кубиков: 0.83334\n"
     ]
    }
   ],
   "source": [
    "# определяем исходы: \n",
    "Dice_1 = Dice_2 = list(range(1, 7))\n",
    "\n",
    "# случайная величина Х - сумма выпавших значений\n",
    "\n",
    "df = pd.DataFrame(product(Dice_1, Dice_2), columns = ['Dice_1', 'Dice_2'])    \n",
    "df['Total'] = df['Dice_1'] + df['Dice_2']\n",
    "\n",
    "# группировка возможных исходов\n",
    "\n",
    "df2 = df.groupby(['Total'])['Total'].count().to_frame()\n",
    "df2.rename(columns = {'Total' : 'Quantity'}, inplace = True)\n",
    "df2.reset_index(inplace = True)\n",
    "df2.rename(columns = {'Total' : 'Points'}, inplace = True)\n",
    "df2['P'] = round(df2['Quantity'] / df.shape[0], 5)\n",
    "\n",
    "# график функции плотности распределения Х\n",
    "fig = plt.figure()\n",
    "ax = fig.add_axes([0,0,1,1])\n",
    "ax.bar(df2['Points'],df2['P'])\n",
    "ax.set_ylabel('Probability')\n",
    "ax.set_xlabel('Число выпавших очков')\n",
    "ax.set_title('Функция плотности распределения Х')\n",
    "plt.show()\n",
    "\n",
    "print(f'Вероятность получить не более 4 очков при броске двух кубиков: {round(df2[\"P\"][df2[\"Points\"] <= 4].sum(), 5)}')\n",
    "print(f'Вероятность получить более 4 очков при броске двух кубиков: {round(df2[\"P\"][df2[\"Points\"] > 4].sum(), 5)}')"
   ]
  },
  {
   "cell_type": "markdown",
   "metadata": {
    "id": "shgW4D83awjK"
   },
   "source": [
    "## Условные вероятности"
   ]
  },
  {
   "cell_type": "markdown",
   "metadata": {
    "id": "Fbu1RFZwWZrk"
   },
   "source": [
    "### Задача 9\n",
    "Из колоды (36 карт) вынимают последовательно без возвращения две карты. Найти вероятность того, что первой картой была шестерка, а второй — семерка. Найти условную вероятность того же события при условии, что обе карты бубновой масти.\n"
   ]
  },
  {
   "cell_type": "code",
   "execution_count": 68,
   "metadata": {
    "id": "037o56awW9-E"
   },
   "outputs": [
    {
     "name": "stdout",
     "output_type": "stream",
     "text": [
      "\n",
      "Вероятность события \"первая карта - шестерка, вторая — семерка\":\n",
      "   0.01279\n",
      "\n",
      "Вероятность события \"первая карта - шестерка бубен, вторая — семерка бубен\":\n",
      "   0.00072\n"
     ]
    }
   ],
   "source": [
    "# сформируем массив карт\n",
    "Card = ['6', '7', '8', '9', '10', 'J', 'Q', 'K', 'A']\n",
    "Suit = ['Clubs', 'Diamonds', 'Hearts', 'Spades']\n",
    "\n",
    "Deck = [i + j for i, j in product(Card, Suit)]\n",
    "\n",
    "# задаем число экспериментов\n",
    "n = 100000\n",
    "# формируем выборку\n",
    "card_1 = []\n",
    "card_2 = []\n",
    "for i in range(n):\n",
    "    card_1.append(''.join(random.choices(Deck)))\n",
    "    card_2.append(''.join(random.choices([j for j in Deck if j != card_1[i]])))  \n",
    "\n",
    "A = pd.DataFrame({'Card_1': card_1, 'Card_2': card_2})\n",
    "#A[A['Card_1'] == A['Card_2']].shape\n",
    "\n",
    "\n",
    "# вероятность того, что первой картой была шестерка, а второй — семерка\n",
    "print(f'''\\nВероятность события \"первая карта - шестерка, вторая — семерка\":\n",
    "   {round(A[(A[\"Card_1\"].str[0] == \"6\") & (A[\"Card_2\"].str[0] == \"7\")].shape[0] / A.shape[0], 5)}''')\n",
    "\n",
    "# вероятность того, что первой картой была шестерка бубен, а второй — семерка бубен\n",
    "print(f'''\\nВероятность события \"первая карта - шестерка бубен, вторая — семерка бубен\":\n",
    "   {round(A[(A[\"Card_1\"] == \"6Diamonds\") & (A[\"Card_2\"] == \"7Diamonds\")].shape[0] / A.shape[0], 5)}''')"
   ]
  },
  {
   "cell_type": "markdown",
   "metadata": {
    "id": "hNVxtaz5c57b"
   },
   "source": [
    "Предлагается также решить задачу: \n",
    "\n",
    "### Задача 10\n",
    "Из урны, содержащей два белых и три черных шара, последовательно извлекают два шара; вынутые шары не возвращаются. Если первый шар оказался черным, то перед вторым извлечением в урну добавляют белый шар. В противном случае состав оставшихся шаров не меняют. Найти вероятности событий:\n",
    "\n",
    "$A$ = {извлечены два белых шара},\n",
    "\n",
    "$B$ = {извлечены два черных шара}\n",
    "\n",
    "Указание. Пусть событие $C_1$ = {первый шар белый}, событие $C_2$ = {второй шар белый}. Тогда $A = C_1C_2$, $B = \\overline C_1 \\overline C_2$ "
   ]
  },
  {
   "cell_type": "code",
   "execution_count": 75,
   "metadata": {
    "id": "WSLnhk2sdBt_"
   },
   "outputs": [
    {
     "name": "stdout",
     "output_type": "stream",
     "text": [
      "\n",
      "Вероятность события \"извлечены два белых шара\":\n",
      "   0.09919\n",
      "\n",
      "Вероятность события \"извлечены два черных шара\":\n",
      "   0.23918\n"
     ]
    }
   ],
   "source": [
    "# заполняем урну \n",
    "Urn = ['white'] * 2 + ['black'] * 3\n",
    "\n",
    "# задаем число экспериментов\n",
    "n = 100000\n",
    "\n",
    "# формируем выборку\n",
    "orb_1 = []\n",
    "orb_2 = []\n",
    "for i in range(n):\n",
    "    orb_1.append(''.join(random.choices(Urn)))\n",
    "    if orb_1[i] == 'black':\n",
    "        Changed_Urn = ['white'] * 3 + ['black'] * 2\n",
    "    else:\n",
    "        Changed_Urn = ['white'] + ['black'] * 3\n",
    "    orb_2.append(''.join(random.choices(Changed_Urn)))  \n",
    "\n",
    "A = pd.DataFrame({'Orb_1': orb_1, 'Orb_2': orb_2})\n",
    "\n",
    "# вероятность того, что извлечены два белых шара\n",
    "print(f'''\\nВероятность события \"извлечены два белых шара\":\n",
    "   {round(A[(A[\"Orb_1\"] == \"white\") & (A[\"Orb_2\"] == \"white\")].shape[0] / A.shape[0], 5)}''')\n",
    "\n",
    "# вероятность того, что извлечены два черных шара\n",
    "print(f'''\\nВероятность события \"извлечены два черных шара\":\n",
    "   {round(A[(A[\"Orb_1\"] == \"black\") & (A[\"Orb_2\"] == \"black\")].shape[0] / A.shape[0], 5)}''')"
   ]
  }
 ],
 "metadata": {
  "colab": {
   "collapsed_sections": [],
   "name": "Практика к занятию 11.ipynb",
   "provenance": []
  },
  "kernelspec": {
   "display_name": "Python 3",
   "language": "python",
   "name": "python3"
  },
  "language_info": {
   "codemirror_mode": {
    "name": "ipython",
    "version": 3
   },
   "file_extension": ".py",
   "mimetype": "text/x-python",
   "name": "python",
   "nbconvert_exporter": "python",
   "pygments_lexer": "ipython3",
   "version": "3.8.5"
  }
 },
 "nbformat": 4,
 "nbformat_minor": 1
}
