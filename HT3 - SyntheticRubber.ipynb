{
 "cells": [
  {
   "cell_type": "code",
   "execution_count": 1,
   "metadata": {},
   "outputs": [
    {
     "name": "stderr",
     "output_type": "stream",
     "text": [
      "C:\\Users\\aab\\anaconda3\\lib\\site-packages\\pandas\\core\\computation\\expressions.py:20: UserWarning: Pandas requires version '2.7.3' or newer of 'numexpr' (version '2.7.1' currently installed).\n",
      "  from pandas.core.computation.check import NUMEXPR_INSTALLED\n"
     ]
    }
   ],
   "source": [
    "import yfinance as yf\n",
    "import pandas as pd\n",
    "import warnings\n",
    "warnings.filterwarnings('ignore')"
   ]
  },
  {
   "cell_type": "code",
   "execution_count": 2,
   "metadata": {},
   "outputs": [],
   "source": [
    "crude_oil_ticker = \"CL=F\"\n",
    "crude_oil = yf.Ticker(crude_oil_ticker)\n",
    "hist = crude_oil.history()"
   ]
  },
  {
   "cell_type": "code",
   "execution_count": 3,
   "metadata": {},
   "outputs": [
    {
     "name": "stdout",
     "output_type": "stream",
     "text": [
      "[*********************100%***********************]  1 of 1 completed\n"
     ]
    }
   ],
   "source": [
    "data = yf.download(crude_oil_ticker, start = '2021-01-01')"
   ]
  },
  {
   "cell_type": "code",
   "execution_count": 4,
   "metadata": {},
   "outputs": [
    {
     "name": "stdout",
     "output_type": "stream",
     "text": [
      "[*********************100%***********************]  1 of 1 completed\n"
     ]
    }
   ],
   "source": [
    "euro = yf.download('EURUSD=X', start = '2021-01-01')"
   ]
  },
  {
   "cell_type": "code",
   "execution_count": 5,
   "metadata": {},
   "outputs": [
    {
     "name": "stdout",
     "output_type": "stream",
     "text": [
      "[*********************100%***********************]  1 of 1 completed\n"
     ]
    }
   ],
   "source": [
    "rur = yf.download('USDRUB=X', start = '2021-01-01')"
   ]
  },
  {
   "cell_type": "markdown",
   "metadata": {},
   "source": [
    "# Задание 1.\n",
    "\n",
    "* Вы - менеджер по продажам в нефтехимической компании. Вы ведете несколько ключевых клиентов, которые закупают продукты вашей компании. Ваша компания запускает новый продукт - \"Синтетический каучук\" (СК), который по своим свойствам похож на тот, что уже есть на рынке. Ваши клиенты предпочитают формульный подход к ценообразованию. Вам нужно предложить клиентам формулу расчета цены на СК. В зависимости от объемов, которые покупают клиенты, им может быть предложена скидка.\n",
    "\n",
    "\n",
    "* СК производиться из нефти. Один из известных способов производства предполагает, что из 10 баррелей нефти сделают одну тонну СК, а затраты на производство в районе 400 евро."
   ]
  },
  {
   "cell_type": "code",
   "execution_count": 6,
   "metadata": {},
   "outputs": [],
   "source": [
    "# Затраты на производство\n",
    "PRODUCTION_COST = 400 # (EUR)\n",
    "\n",
    "# Расходы на логистику\n",
    "EU_LOGISTIC_COST_EUR = 30 # в Европу в евро\n",
    "CN_LOGISTIC_COST_USD = 130 # в Китай в долларах\n",
    "\n",
    "# * Справочная информация по клиентам(объемы, локации, комментарии) \n",
    "customers = {\n",
    "    'Сonty':{\n",
    "        'location':'EU',\n",
    "        'volumes':200,\n",
    "        'comment':'moving_average'\n",
    "    },\n",
    "    \n",
    "    'Triangle':{\n",
    "        'location':'CN',\n",
    "        'volumes': 30,\n",
    "        'comment': 'monthly'\n",
    "    },\n",
    "    'Stone':{\n",
    "        'location':'EU',\n",
    "        'volumes': 150,\n",
    "        'comment': 'moving_average'\n",
    "    },\n",
    "    'Ant':{\n",
    "        'location':'EU',\n",
    "        'volumes': 70,\n",
    "        'comment': 'monthly'\n",
    "    }\n",
    "}\n",
    "# Скидки\n",
    "discounts = {'99': 0.01, # до 100 тонн 1%\n",
    "             '299': 0.05, #  до 300 тонн 5%\n",
    "             '300': 0.1}   # больше 300 тонн 10%\n"
   ]
  },
  {
   "cell_type": "code",
   "execution_count": 7,
   "metadata": {},
   "outputs": [],
   "source": [
    "# функция расчета скидки по словарю скидок\n",
    "def get_discount(amount):\n",
    "    '''\n",
    "    функция возвращает размер скидки по переданному значению объема закупки\n",
    "    функция использует глобальный словарь discounts\n",
    "    если на вход дано отрицательное значение, функция возвращает нулевую скидку\n",
    "    ВАЖНО: словарь скидок должен быть упорядочен по возрастанию объемов закупок\n",
    "    '''\n",
    "    if amount < 0:\n",
    "        return 0\n",
    "    for k, v in discounts.items():\n",
    "        if amount <= int(k):\n",
    "            return v\n",
    "    return v   "
   ]
  },
  {
   "cell_type": "markdown",
   "metadata": {},
   "source": [
    "### Что нужно сделать?\n",
    "\n",
    "1. Определить базовую формулу цены на заводе. То есть как бы выглядела цена на исторических данных. \n",
    "* Важно, чтобы цена покрывала расходы на производство и при этом была в рынке, то есть на уровне натурального каучука или с небольшим дисконтом, котировки на который можно взять с сайта http://www3.lgm.gov.my/mre/MonthlyPrices.aspx (в центах за килограм). Можно перевести в доллары за тонну.\n",
    "2. Отобразить на графике.\n",
    "3. Сделать расчет возможной цены по формуле для каждого из клиентов на условиях DDP (цена с доставкой). Записать все в один эксель файл, на разных листах. Каждый лист - название клиента.\n",
    "4. Предложить формулу цены каждому из клиентов на условиях DDP (цена с доставкой).\n",
    "- Создать директорию «для клиентов» и в ней сложить  файлы с расчетами.\n",
    "- Каждый клиент - отдельный файл (любой из docx, xlsx, pptx, pdf)  с именем клиента… \n",
    "\n"
   ]
  },
  {
   "cell_type": "code",
   "execution_count": 8,
   "metadata": {},
   "outputs": [
    {
     "name": "stdout",
     "output_type": "stream",
     "text": [
      "Обрабатывается период: 01 2021\n",
      "Обрабатывается период: 02 2021\n",
      "Обрабатывается период: 03 2021\n",
      "Обрабатывается период: 04 2021\n",
      "Обрабатывается период: 05 2021\n",
      "Обрабатывается период: 06 2021\n",
      "Обрабатывается период: 07 2021\n",
      "Обрабатывается период: 08 2021\n",
      "Обрабатывается период: 09 2021\n",
      "Обрабатывается период: 10 2021\n",
      "Обрабатывается период: 11 2021\n",
      "Обрабатывается период: 12 2021\n",
      "Обрабатывается период: 01 2022\n",
      "Обрабатывается период: 02 2022\n",
      "Обрабатывается период: 03 2022\n",
      "Обрабатывается период: 04 2022\n",
      "Обрабатывается период: 05 2022\n",
      "Обрабатывается период: 06 2022\n",
      "Обрабатывается период: 07 2022\n",
      "Обрабатывается период: 08 2022\n",
      "Обрабатывается период: 09 2022\n",
      "Обрабатывается период: 10 2022\n",
      "Обрабатывается период: 11 2022\n",
      "Обрабатывается период: 12 2022\n",
      "Обрабатывается период: 01 2023\n",
      "Обрабатывается период: 02 2023\n",
      "Обрабатывается период: 03 2023\n",
      "Обрабатывается период: 04 2023\n"
     ]
    }
   ],
   "source": [
    "# Извлекаем данные о котировках натурального каучука\n",
    "import requests\n",
    "import itertools\n",
    "\n",
    "year = ['2021', '2022', '2023']\n",
    "month = ['01', '02', '03', '04', '05', '06', '07', '08', '09', '10', '11', '12']\n",
    "\n",
    "comb = list(itertools.product(year, month))\n",
    "\n",
    "cf = pd.DataFrame()\n",
    "for i in comb:\n",
    "    print(f'Обрабатывается период: {i[1]} {i[0]}')\n",
    "    url = f'https://www.lgm.gov.my/webv2api/api/rubberprice/month={int(i[1])}&year={int(i[0])}'\n",
    "    res = requests.get(url)      \n",
    "    rj = res.json()      \n",
    "    if len(rj) == 0:\n",
    "          break\n",
    "    temp = pd.json_normalize(rj)\n",
    "    cf = pd.concat([cf, temp])      "
   ]
  },
  {
   "cell_type": "code",
   "execution_count": 9,
   "metadata": {},
   "outputs": [],
   "source": [
    "# преобразования колонок\n",
    "cf.rename(columns = {'date': 'Date'}, inplace = True)\n",
    "cf['Date'] = pd.to_datetime(cf['Date'].str.strip(), format = '%Y-%m-%d')\n",
    "cf['us'] = pd.to_numeric(cf['us'], downcast = 'float')\n",
    "cf.set_index('Date', inplace = True)"
   ]
  },
  {
   "cell_type": "code",
   "execution_count": 10,
   "metadata": {},
   "outputs": [],
   "source": [
    "# агрегация цен на разные сорта каучука\n",
    "cf2 = pd.concat([cf[cf['grade'] == 'SMR CV'].resample('M').mean()['us'], \\\n",
    "                 cf[cf['grade'] == 'SMR L'].resample('M').mean()['us'], \\\n",
    "                 cf[cf['grade'] == 'SMR 5'].resample('M').mean()['us'], \\\n",
    "                 cf[cf['grade'] == 'SMR GP'].resample('M').mean()['us'], \\\n",
    "                 cf[cf['grade'] == 'SMR 10'].resample('M').mean()['us'], \\\n",
    "                 cf[cf['grade'] == 'SMR 20'].resample('M').mean()['us']], axis = 1)\n",
    "\n",
    "cf2.columns = ['SMR CV', 'SMR L', 'SMR 5', 'SMR GP', 'SMR 10', 'SMR 20']"
   ]
  },
  {
   "cell_type": "code",
   "execution_count": 11,
   "metadata": {},
   "outputs": [],
   "source": [
    "cf2 *= 10 # перевод центов за кг в доллары за тонну\n",
    "cf2 = cf2.round(0)\n",
    "# добавляем колонки с максимальной и минимальной ценой\n",
    "cf2['min_value'] = cf2.min(axis = 1)\n",
    "cf2['max_value'] = cf2.max(axis = 1)\n",
    "cf2['avg_value'] = cf2.mean(axis = 1)"
   ]
  },
  {
   "cell_type": "code",
   "execution_count": 13,
   "metadata": {},
   "outputs": [],
   "source": [
    "# Базовая формула цены на заводе\n",
    "# Сделаем датафрейм с ценами (нефть, курс евро к доллару, курс рубля к доллару)\n",
    "df = pd.concat([data.resample('M').mean()['Close'], euro.resample('M').mean()['Close'], rur.resample('M').mean()['Close']], axis = 1)\n",
    "df.columns = ['Oil', 'Eurusd', 'Usdrur']\n",
    "\n",
    "# добавим цену производства тонны СК \n",
    "# базовая цена в евро\n",
    "df['Basis'] = round(df['Oil'] * 10 / df['Eurusd'] + PRODUCTION_COST, 2)\n",
    "# базовая цена в долларах\n",
    "df['Basis_USD'] = round(df['Basis'] * df['Eurusd'])"
   ]
  },
  {
   "cell_type": "code",
   "execution_count": 15,
   "metadata": {},
   "outputs": [],
   "source": [
    "# соединение таблиц \n",
    "df2 = pd.merge(df, cf2, left_index = True, right_index = True)"
   ]
  },
  {
   "cell_type": "code",
   "execution_count": 18,
   "metadata": {},
   "outputs": [
    {
     "data": {
      "image/png": "[encoded data removed]",
      "text/plain": [
       "<Figure size 1080x288 with 1 Axes>"
      ]
     },
     "metadata": {
      "needs_background": "light"
     },
     "output_type": "display_data"
    }
   ],
   "source": [
    "# график базовой цены на заводе\n",
    "# цена нашего каучука ниже стоимости натурального\n",
    "import matplotlib.pyplot as plt\n",
    "import seaborn as sns\n",
    "\n",
    "fig = plt.figure(figsize = (15, 4))\n",
    "\n",
    "a = sns.lineplot(x = df2.index, y = df2['Basis_USD'])\n",
    "b = sns.lineplot(x = df2.index, y = df2['min_value'], color = 'lightblue', alpha = .1)\n",
    "c = sns.lineplot(x = df2.index, y = df2['max_value'], color = 'lightblue', alpha = .1)\n",
    "\n",
    "line = c.get_lines()\n",
    "\n",
    "fig.suptitle('Базовая цена синтетического каучука ниже минимальной цены натурального!')\n",
    "\n",
    "plt.fill_between(line[0].get_xdata(), line[1].get_ydata(), line[2].get_ydata(), color = 'lightblue', alpha = .7)\n",
    "plt.show()"
   ]
  },
  {
   "cell_type": "code",
   "execution_count": 19,
   "metadata": {},
   "outputs": [],
   "source": [
    "# добавим в датафрейм расчет цены для каждого клиента\n",
    "# для клиентов Европы цены в евро, для клиентов Китая цены в долларах\n",
    "\n",
    "for i in customers.keys():\n",
    "    if customers[i]['location'] == 'EU':\n",
    "        df[i] = customers[i]['volumes'] * EU_LOGISTIC_COST_EUR * df['Basis'] * get_discount(customers[i]['volumes'])\n",
    "    elif customers[i]['location'] == 'CN':\n",
    "        df[i] = customers[i]['volumes'] * CN_LOGISTIC_COST_USD * df['Basis'] * df['Eurusd'] * get_discount(customers[i]['volumes'])\n",
    "    else:\n",
    "        print(f' Внимание: неизвестная локация!')\n",
    "    df[i] = df[i].astype(int)    \n",
    "        "
   ]
  },
  {
   "cell_type": "code",
   "execution_count": 20,
   "metadata": {
    "scrolled": true
   },
   "outputs": [
    {
     "data": {
      "text/html": [
       "<div>\n",
       "<style scoped>\n",
       "    .dataframe tbody tr th:only-of-type {\n",
       "        vertical-align: middle;\n",
       "    }\n",
       "\n",
       "    .dataframe tbody tr th {\n",
       "        vertical-align: top;\n",
       "    }\n",
       "\n",
       "    .dataframe thead th {\n",
       "        text-align: right;\n",
       "    }\n",
       "</style>\n",
       "<table border=\"1\" class=\"dataframe\">\n",
       "  <thead>\n",
       "    <tr style=\"text-align: right;\">\n",
       "      <th></th>\n",
       "      <th>Oil</th>\n",
       "      <th>Eurusd</th>\n",
       "      <th>Usdrur</th>\n",
       "      <th>Basis</th>\n",
       "      <th>Basis_USD</th>\n",
       "      <th>Сonty</th>\n",
       "      <th>Triangle</th>\n",
       "      <th>Stone</th>\n",
       "      <th>Ant</th>\n",
       "    </tr>\n",
       "    <tr>\n",
       "      <th>Date</th>\n",
       "      <th></th>\n",
       "      <th></th>\n",
       "      <th></th>\n",
       "      <th></th>\n",
       "      <th></th>\n",
       "      <th></th>\n",
       "      <th></th>\n",
       "      <th></th>\n",
       "      <th></th>\n",
       "    </tr>\n",
       "  </thead>\n",
       "  <tbody>\n",
       "    <tr>\n",
       "      <th>2021-01-31</th>\n",
       "      <td>52.102106</td>\n",
       "      <td>1.217785</td>\n",
       "      <td>74.351806</td>\n",
       "      <td>827.84</td>\n",
       "      <td>1008.0</td>\n",
       "      <td>248352</td>\n",
       "      <td>39317</td>\n",
       "      <td>186264</td>\n",
       "      <td>17384</td>\n",
       "    </tr>\n",
       "    <tr>\n",
       "      <th>2021-02-28</th>\n",
       "      <td>59.061053</td>\n",
       "      <td>1.209898</td>\n",
       "      <td>74.427065</td>\n",
       "      <td>888.15</td>\n",
       "      <td>1075.0</td>\n",
       "      <td>266445</td>\n",
       "      <td>41908</td>\n",
       "      <td>199833</td>\n",
       "      <td>18651</td>\n",
       "    </tr>\n",
       "    <tr>\n",
       "      <th>2021-03-31</th>\n",
       "      <td>62.357391</td>\n",
       "      <td>1.191474</td>\n",
       "      <td>74.481218</td>\n",
       "      <td>923.36</td>\n",
       "      <td>1100.0</td>\n",
       "      <td>277008</td>\n",
       "      <td>42906</td>\n",
       "      <td>207756</td>\n",
       "      <td>19390</td>\n",
       "    </tr>\n",
       "  </tbody>\n",
       "</table>\n",
       "</div>"
      ],
      "text/plain": [
       "                  Oil    Eurusd     Usdrur   Basis  Basis_USD   Сonty  \\\n",
       "Date                                                                    \n",
       "2021-01-31  52.102106  1.217785  74.351806  827.84     1008.0  248352   \n",
       "2021-02-28  59.061053  1.209898  74.427065  888.15     1075.0  266445   \n",
       "2021-03-31  62.357391  1.191474  74.481218  923.36     1100.0  277008   \n",
       "\n",
       "            Triangle   Stone    Ant  \n",
       "Date                                 \n",
       "2021-01-31     39317  186264  17384  \n",
       "2021-02-28     41908  199833  18651  \n",
       "2021-03-31     42906  207756  19390  "
      ]
     },
     "execution_count": 20,
     "metadata": {},
     "output_type": "execute_result"
    }
   ],
   "source": [
    "df.head(3)"
   ]
  },
  {
   "cell_type": "code",
   "execution_count": 21,
   "metadata": {},
   "outputs": [],
   "source": [
    "# записываем расчетные цены в один файл и для каждого клиента - в отдельный файл\n",
    "import os\n",
    "clients_path = 'for_clients'\n",
    "os.makedirs(clients_path, exist_ok = True)\n",
    "\n",
    "\n",
    "xlfilepath = 'offer_prices.xlsx'\n",
    "with pd.ExcelWriter(xlfilepath, engine = 'xlsxwriter') as writer:\n",
    "    for client_name, client_info in customers.items():\n",
    "        client_df = df[['Basis', client_name]].copy()\n",
    "\n",
    "        if client_info.get('location') == 'EU':\n",
    "            client_df['logistics per tonne'] = EU_LOGISTIC_COST_EUR\n",
    "        elif client_info.get('location') == 'CN':\n",
    "            client_df['logistics per tonne'] = CN_LOGISTIC_COST_USD\n",
    "    \n",
    "        if client_info.get('volumes'):\n",
    "            client_df['volumes'] = client_info.get('volumes')\n",
    "\n",
    "        client_df['discount'] = client_df['volumes'].apply(get_discount)\n",
    "        client_df.rename(columns = {client_name: 'Total price'}, inplace = True)\n",
    "        \n",
    "        client_df['Total price'].plot(color = 'red', linestyle = 'dashed')\n",
    "        plt.title(f'Client {client_name} total price')\n",
    "        if client_info.get('location') == 'EU':\n",
    "            plt.ylabel('EUR')\n",
    "        else:\n",
    "            plt.ylabel('USD')\n",
    "        plt.tight_layout()\n",
    "        plt.savefig(f'{client_name}_ck_price.png')\n",
    "        plt.close()\n",
    "\n",
    "        client_df = client_df.round(2)\n",
    "        client_df = client_df.reset_index()\n",
    "        client_df.Date = client_df.Date.dt.strftime('%B %Y')\n",
    "\n",
    "        max_row, max_col = client_df.shape\n",
    "        client_df.to_excel(writer, sheet_name = client_name, startrow = 1, header = False, index = False)\n",
    "        workbook = writer.book\n",
    "        worksheet = writer.sheets[client_name]\n",
    "        column_settings = [{'header': column} for column in client_df.columns]\n",
    "        worksheet.add_table(0, 0, max_row, max_col - 1, {'columns': column_settings})\n",
    "        worksheet.insert_image(max_row + 3, 1, f'{client_name}_ck_price.png')\n",
    "        \n",
    "        # запись отдельного файла для каждого клиента\n",
    "\n",
    "        file_to_open = os.path.join(clients_path, client_name + '.xlsx')\n",
    "        with pd.ExcelWriter(file_to_open, engine = 'xlsxwriter') as writer_one:\n",
    "            client_df.to_excel(writer_one, sheet_name = client_name, startrow = 1, header = False, index = False)\n",
    "            workbook = writer_one.book\n",
    "            worksheet = writer_one.sheets[client_name]\n",
    "            column_settings = [{'header': column} for column in client_df.columns]\n",
    "            worksheet.add_table(0, 0, max_row, max_col - 1, {'columns': column_settings})\n",
    "            worksheet.insert_image(max_row + 3, 1, f'{client_name}_ck_price.png')\n",
    "            \n"
   ]
  },
  {
   "cell_type": "markdown",
   "metadata": {},
   "source": [
    "# Задание 2"
   ]
  },
  {
   "cell_type": "markdown",
   "metadata": {},
   "source": [
    "Клиенты согласились на ваше предложение. \n",
    "Вам нужно сделать написать скрипт, с помощью которого можно автоматом рассчитывать цены для всех клиентов одновременно. \n",
    "Важный момент: данные для расчета скрипт должен подтягивать сам."
   ]
  },
  {
   "cell_type": "code",
   "execution_count": 21,
   "metadata": {},
   "outputs": [],
   "source": [
    "# См. файл HT3_SyntheticRubber.py\n",
    "\n",
    "# Я вставил код по созданию отдельных файлов Экселя в уже существующий код в предыдущей ячейке. Это позволило не повторять код. \n"
   ]
  },
  {
   "cell_type": "markdown",
   "metadata": {},
   "source": [
    "# Задание 3\n",
    "\n",
    "К вам пришел новый клиент из России. Который использует продукт А и готов регулярно закупать СК для того, чтобы не быть привязанным к одному поставщику. Клиент готов забирать СК с завода самостоятельно.\n",
    "На основе тех данных, которые уже есть предложите цену новому клиенту в рублях. \n",
    "\n"
   ]
  },
  {
   "cell_type": "code",
   "execution_count": 22,
   "metadata": {},
   "outputs": [],
   "source": [
    "# расчет цены самовывоза с завода\n",
    "df['Russia'] = df['Basis'] * df['Eurusd'] * df['Usdrur']\n",
    "df['Russia'] = df['Russia'].astype(int) \n"
   ]
  },
  {
   "cell_type": "code",
   "execution_count": 23,
   "metadata": {},
   "outputs": [],
   "source": [
    "# создание файла для клиента\n",
    "xlfilepath = 'offer_Russia_prices.xlsx'\n",
    "with pd.ExcelWriter(xlfilepath, engine = 'xlsxwriter') as writer:\n",
    "    client_df = df[['Basis', 'Russia']].copy()\n",
    "    client_df['logistics per tonne'] = 0\n",
    "    client_df['volumes'] = 1\n",
    "    client_df['discount'] = client_df['volumes'].apply(get_discount)\n",
    "    client_df.rename(columns = {'Russia': 'Total price'}, inplace = True)\n",
    "        \n",
    "    client_df['Total price'].plot(color = 'red', linestyle = 'dashed')\n",
    "    plt.title(f'Russia EXW price')\n",
    "    plt.ylabel('RUR')\n",
    "    plt.tight_layout()\n",
    "    plt.savefig(f'Russia_ck_price.png')\n",
    "    plt.close()\n",
    "\n",
    "    client_df = client_df.round(2)\n",
    "    client_df = client_df.reset_index()\n",
    "    client_df.Date = client_df.Date.dt.strftime('%B %Y')\n",
    "\n",
    "    max_row, max_col = client_df.shape\n",
    "    client_df.to_excel(writer, sheet_name = 'Russia EXW', startrow = 1, header = False, index = False)\n",
    "    workbook = writer.book\n",
    "    worksheet = writer.sheets['Russia EXW']\n",
    "    column_settings = [{'header': column} for column in client_df.columns]\n",
    "    worksheet.add_table(0, 0, max_row, max_col - 1, {'columns': column_settings})\n",
    "    worksheet.insert_image(max_row + 3, 1, f'Russia_ck_price.png')\n"
   ]
  }
 ],
 "metadata": {
  "kernelspec": {
   "display_name": "Python 3",
   "language": "python",
   "name": "python3"
  },
  "language_info": {
   "codemirror_mode": {
    "name": "ipython",
    "version": 3
   },
   "file_extension": ".py",
   "mimetype": "text/x-python",
   "name": "python",
   "nbconvert_exporter": "python",
   "pygments_lexer": "ipython3",
   "version": "3.8.5"
  }
 },
 "nbformat": 4,
 "nbformat_minor": 2
}
