{
  "nbformat": 4,
  "nbformat_minor": 0,
  "metadata": {
    "colab": {
      "provenance": [],
      "include_colab_link": true
    },
    "kernelspec": {
      "name": "python3",
      "display_name": "Python 3"
    }
  },
  "cells": [
    {
      "cell_type": "markdown",
      "metadata": {
        "id": "view-in-github",
        "colab_type": "text"
      },
      "source": [
        "<a href=\"https://colab.research.google.com/github/Castaest/Data_Analysis_School/blob/main/ABD_%D0%BC%D0%BE%D0%B4%D0%B5%D0%BB%D1%8C_AAB_ipynb%22%22.ipynb\" target=\"_parent\"><img src=\"https://colab.research.google.com/assets/colab-badge.svg\" alt=\"Open In Colab\"/></a>"
      ]
    },
    {
      "cell_type": "markdown",
      "metadata": {
        "id": "mc57t-wnPvuT"
      },
      "source": [
        "## Установка PySpark"
      ]
    },
    {
      "cell_type": "code",
      "metadata": {
        "id": "Kl3IFfzNE45B",
        "colab": {
          "base_uri": "https://localhost:8080/"
        },
        "outputId": "a4c63b74-1e2e-4305-ce4d-9fb5bedee642"
      },
      "source": [
        "!apt-get update"
      ],
      "execution_count": 1,
      "outputs": [
        {
          "output_type": "stream",
          "name": "stdout",
          "text": [
            "\r0% [Working]\r            \rGet:1 https://cloud.r-project.org/bin/linux/ubuntu jammy-cran40/ InRelease [3,626 B]\n",
            "Hit:2 https://developer.download.nvidia.com/compute/cuda/repos/ubuntu2204/x86_64  InRelease\n",
            "Get:3 http://security.ubuntu.com/ubuntu jammy-security InRelease [110 kB]\n",
            "Hit:4 http://archive.ubuntu.com/ubuntu jammy InRelease\n",
            "Get:5 http://archive.ubuntu.com/ubuntu jammy-updates InRelease [119 kB]\n",
            "Hit:6 https://ppa.launchpadcontent.net/c2d4u.team/c2d4u4.0+/ubuntu jammy InRelease\n",
            "Get:7 http://security.ubuntu.com/ubuntu jammy-security/main amd64 Packages [802 kB]\n",
            "Get:8 http://archive.ubuntu.com/ubuntu jammy-backports InRelease [108 kB]\n",
            "Hit:9 https://ppa.launchpadcontent.net/deadsnakes/ppa/ubuntu jammy InRelease\n",
            "Get:10 http://archive.ubuntu.com/ubuntu jammy-updates/main amd64 Packages [1,087 kB]\n",
            "Get:11 http://security.ubuntu.com/ubuntu jammy-security/restricted amd64 Packages [848 kB]\n",
            "Get:12 http://security.ubuntu.com/ubuntu jammy-security/universe amd64 Packages [969 kB]\n",
            "Get:13 http://archive.ubuntu.com/ubuntu jammy-updates/universe amd64 Packages [1,230 kB]\n",
            "Get:14 https://ppa.launchpadcontent.net/graphics-drivers/ppa/ubuntu jammy InRelease [24.3 kB]\n",
            "Hit:15 https://ppa.launchpadcontent.net/ubuntugis/ppa/ubuntu jammy InRelease\n",
            "Get:16 https://ppa.launchpadcontent.net/graphics-drivers/ppa/ubuntu jammy/main amd64 Packages [35.7 kB]\n",
            "Fetched 5,337 kB in 5s (1,037 kB/s)\n",
            "Reading package lists... Done\n"
          ]
        }
      ]
    },
    {
      "cell_type": "code",
      "metadata": {
        "id": "ayDTf4zuBWpE"
      },
      "source": [
        "!apt-get install openjdk-8-jdk-headless -qq > /dev/null"
      ],
      "execution_count": 2,
      "outputs": []
    },
    {
      "cell_type": "code",
      "metadata": {
        "id": "NMASjKe1BZTH"
      },
      "source": [
        "!wget -q https://downloads.apache.org/spark/spark-3.4.0/spark-3.4.0-bin-hadoop3.tgz"
      ],
      "execution_count": 3,
      "outputs": []
    },
    {
      "cell_type": "code",
      "metadata": {
        "id": "3a45uXduBesm"
      },
      "source": [
        "!tar -xvf spark-3.4.0-bin-hadoop3.tgz > /dev/null"
      ],
      "execution_count": 4,
      "outputs": []
    },
    {
      "cell_type": "code",
      "metadata": {
        "id": "u5l80lXABhkh"
      },
      "source": [
        "!pip install -q findspark"
      ],
      "execution_count": 5,
      "outputs": []
    },
    {
      "cell_type": "code",
      "metadata": {
        "id": "OzLOKCzbBk2O"
      },
      "source": [
        "import os\n",
        "os.environ[\"JAVA_HOME\"] = \"/usr/lib/jvm/java-8-openjdk-amd64\"\n",
        "os.environ[\"SPARK_HOME\"] = \"/content/spark-3.4.0-bin-hadoop3\""
      ],
      "execution_count": 6,
      "outputs": []
    },
    {
      "cell_type": "code",
      "metadata": {
        "id": "1pSrW3TfBnX1"
      },
      "source": [
        "import findspark\n",
        "findspark.init()\n",
        "from pyspark.sql import SparkSession\n",
        "from pyspark.sql import functions as F\n",
        "\n",
        "spark = SparkSession.builder.master(\"local[*]\").getOrCreate()"
      ],
      "execution_count": 7,
      "outputs": []
    },
    {
      "cell_type": "markdown",
      "metadata": {
        "id": "ET5O_hjXP1mQ"
      },
      "source": [
        "## Загружаем данные из файла"
      ]
    },
    {
      "cell_type": "code",
      "metadata": {
        "id": "dU4NSXjdBrYL"
      },
      "source": [
        "df = spark.read.options(header='True', inferSchema='True').csv('/content/iris.CSV')"
      ],
      "execution_count": 8,
      "outputs": []
    },
    {
      "cell_type": "code",
      "source": [
        "df.dtypes"
      ],
      "metadata": {
        "colab": {
          "base_uri": "https://localhost:8080/"
        },
        "id": "PrlmK3QPp4EL",
        "outputId": "3ef2cf6c-e3db-42fd-a90e-ef80a2772c2a"
      },
      "execution_count": 9,
      "outputs": [
        {
          "output_type": "execute_result",
          "data": {
            "text/plain": [
              "[('sepal_length', 'double'),\n",
              " ('sepal_width', 'double'),\n",
              " ('petal_length', 'double'),\n",
              " ('petal_width', 'double'),\n",
              " ('variety', 'string'),\n",
              " ('variety_num', 'int')]"
            ]
          },
          "metadata": {},
          "execution_count": 9
        }
      ]
    },
    {
      "cell_type": "code",
      "metadata": {
        "id": "hWYpVRxpByHH",
        "colab": {
          "base_uri": "https://localhost:8080/"
        },
        "outputId": "e429c07f-fd29-4332-8513-00be68495c15"
      },
      "source": [
        "df.show(5)"
      ],
      "execution_count": 10,
      "outputs": [
        {
          "output_type": "stream",
          "name": "stdout",
          "text": [
            "+------------+-----------+------------+-----------+-------+-----------+\n",
            "|sepal_length|sepal_width|petal_length|petal_width|variety|variety_num|\n",
            "+------------+-----------+------------+-----------+-------+-----------+\n",
            "|         5.1|        3.5|         1.4|        0.2| Setosa|          0|\n",
            "|         4.9|        3.0|         1.4|        0.2| Setosa|          0|\n",
            "|         4.7|        3.2|         1.3|        0.2| Setosa|          0|\n",
            "|         4.6|        3.1|         1.5|        0.2| Setosa|          0|\n",
            "|         5.0|        3.6|         1.4|        0.2| Setosa|          0|\n",
            "+------------+-----------+------------+-----------+-------+-----------+\n",
            "only showing top 5 rows\n",
            "\n"
          ]
        }
      ]
    },
    {
      "cell_type": "code",
      "source": [
        "# проверка отсутствия пропусков\n",
        "df.describe().show()"
      ],
      "metadata": {
        "colab": {
          "base_uri": "https://localhost:8080/"
        },
        "id": "BCONYpo4rLpF",
        "outputId": "557330cc-c357-4b13-8f19-ec8008c3ca15"
      },
      "execution_count": 12,
      "outputs": [
        {
          "output_type": "stream",
          "name": "stdout",
          "text": [
            "+-------+------------------+-------------------+------------------+------------------+---------+------------------+\n",
            "|summary|      sepal_length|        sepal_width|      petal_length|       petal_width|  variety|       variety_num|\n",
            "+-------+------------------+-------------------+------------------+------------------+---------+------------------+\n",
            "|  count|               150|                150|               150|               150|      150|               150|\n",
            "|   mean| 5.843333333333335|  3.057333333333334|3.7580000000000027| 1.199333333333334|     null|               1.0|\n",
            "| stddev|0.8280661279778637|0.43586628493669793|1.7652982332594662|0.7622376689603467|     null|0.8192319205190406|\n",
            "|    min|               4.3|                2.0|               1.0|               0.1|   Setosa|                 0|\n",
            "|    max|               7.9|                4.4|               6.9|               2.5|Virginica|                 2|\n",
            "+-------+------------------+-------------------+------------------+------------------+---------+------------------+\n",
            "\n"
          ]
        }
      ]
    },
    {
      "cell_type": "code",
      "source": [
        "# собираем все признаки в единый вектор\n",
        "from pyspark.ml.linalg import Vectors\n",
        "from pyspark.ml.feature import VectorAssembler\n",
        "assembler = VectorAssembler(inputCols=['sepal_length', 'sepal_width', 'petal_length', 'petal_width'], outputCol='Features')\n",
        "df_features = assembler.transform(df)\n",
        "df_features.show(5)"
      ],
      "metadata": {
        "colab": {
          "base_uri": "https://localhost:8080/"
        },
        "id": "jV-7c0LvrYjb",
        "outputId": "43cbdb16-4e15-4c28-dcac-5072ec19e9ed"
      },
      "execution_count": 15,
      "outputs": [
        {
          "output_type": "stream",
          "name": "stdout",
          "text": [
            "+------------+-----------+------------+-----------+-------+-----------+-----------------+\n",
            "|sepal_length|sepal_width|petal_length|petal_width|variety|variety_num|         Features|\n",
            "+------------+-----------+------------+-----------+-------+-----------+-----------------+\n",
            "|         5.1|        3.5|         1.4|        0.2| Setosa|          0|[5.1,3.5,1.4,0.2]|\n",
            "|         4.9|        3.0|         1.4|        0.2| Setosa|          0|[4.9,3.0,1.4,0.2]|\n",
            "|         4.7|        3.2|         1.3|        0.2| Setosa|          0|[4.7,3.2,1.3,0.2]|\n",
            "|         4.6|        3.1|         1.5|        0.2| Setosa|          0|[4.6,3.1,1.5,0.2]|\n",
            "|         5.0|        3.6|         1.4|        0.2| Setosa|          0|[5.0,3.6,1.4,0.2]|\n",
            "+------------+-----------+------------+-----------+-------+-----------+-----------------+\n",
            "only showing top 5 rows\n",
            "\n"
          ]
        }
      ]
    },
    {
      "cell_type": "code",
      "source": [
        "# если бы этапов обработки данных было бы много, то было бы выгодно использовать Pipeline\n",
        "from pyspark.ml import Pipeline\n",
        "pipeline = Pipeline(stages =\n",
        "[\n",
        "  VectorAssembler(inputCols=['sepal_length', 'sepal_width', 'petal_length', 'petal_width'], outputCol='Features')\n",
        "]\n",
        ")\n",
        "pipelineTrained = pipeline.fit(df)\n",
        "df_m = pipelineTrained.transform(df)\n",
        "df_m.show(5)"
      ],
      "metadata": {
        "colab": {
          "base_uri": "https://localhost:8080/"
        },
        "id": "teFZXHY-rYfb",
        "outputId": "0e1a6fd7-7583-4570-f51a-2a5045c9a97d"
      },
      "execution_count": 17,
      "outputs": [
        {
          "output_type": "stream",
          "name": "stdout",
          "text": [
            "+------------+-----------+------------+-----------+-------+-----------+-----------------+\n",
            "|sepal_length|sepal_width|petal_length|petal_width|variety|variety_num|         Features|\n",
            "+------------+-----------+------------+-----------+-------+-----------+-----------------+\n",
            "|         5.1|        3.5|         1.4|        0.2| Setosa|          0|[5.1,3.5,1.4,0.2]|\n",
            "|         4.9|        3.0|         1.4|        0.2| Setosa|          0|[4.9,3.0,1.4,0.2]|\n",
            "|         4.7|        3.2|         1.3|        0.2| Setosa|          0|[4.7,3.2,1.3,0.2]|\n",
            "|         4.6|        3.1|         1.5|        0.2| Setosa|          0|[4.6,3.1,1.5,0.2]|\n",
            "|         5.0|        3.6|         1.4|        0.2| Setosa|          0|[5.0,3.6,1.4,0.2]|\n",
            "+------------+-----------+------------+-----------+-------+-----------+-----------------+\n",
            "only showing top 5 rows\n",
            "\n"
          ]
        }
      ]
    },
    {
      "cell_type": "code",
      "source": [
        "# разделение на обучающую и тестовую выборку\n",
        "train, test = df_m.randomSplit([0.8, 0.2], seed = 42)\n",
        "train.show(5)"
      ],
      "metadata": {
        "colab": {
          "base_uri": "https://localhost:8080/"
        },
        "id": "U2GCiyuorYcC",
        "outputId": "abf0973d-7dd9-4a6e-ad00-a9bd3fac0c4d"
      },
      "execution_count": 22,
      "outputs": [
        {
          "output_type": "stream",
          "name": "stdout",
          "text": [
            "+------------+-----------+------------+-----------+-------+-----------+-----------------+\n",
            "|sepal_length|sepal_width|petal_length|petal_width|variety|variety_num|         Features|\n",
            "+------------+-----------+------------+-----------+-------+-----------+-----------------+\n",
            "|         4.3|        3.0|         1.1|        0.1| Setosa|          0|[4.3,3.0,1.1,0.1]|\n",
            "|         4.4|        2.9|         1.4|        0.2| Setosa|          0|[4.4,2.9,1.4,0.2]|\n",
            "|         4.4|        3.2|         1.3|        0.2| Setosa|          0|[4.4,3.2,1.3,0.2]|\n",
            "|         4.5|        2.3|         1.3|        0.3| Setosa|          0|[4.5,2.3,1.3,0.3]|\n",
            "|         4.6|        3.1|         1.5|        0.2| Setosa|          0|[4.6,3.1,1.5,0.2]|\n",
            "+------------+-----------+------------+-----------+-------+-----------+-----------------+\n",
            "only showing top 5 rows\n",
            "\n"
          ]
        }
      ]
    },
    {
      "cell_type": "code",
      "source": [
        "# обучение модели Random Forest\n",
        "from pyspark.ml.classification import RandomForestClassifier\n",
        "from pyspark.ml.evaluation import MulticlassClassificationEvaluator"
      ],
      "metadata": {
        "id": "52rc-sVk9HwP"
      },
      "execution_count": 23,
      "outputs": []
    },
    {
      "cell_type": "code",
      "source": [
        "rf = RandomForestClassifier(featuresCol = 'Features', labelCol = 'variety_num', numTrees = 30, maxDepth = 3)\n",
        "rfModel = rf.fit(train)"
      ],
      "metadata": {
        "id": "MNxCY_0R9kw6"
      },
      "execution_count": 35,
      "outputs": []
    },
    {
      "cell_type": "code",
      "source": [
        "train_tr_res = rfModel.transform(train)\n",
        "test_tr_res = rfModel.transform(test)"
      ],
      "metadata": {
        "id": "49c221CO-Qau"
      },
      "execution_count": 36,
      "outputs": []
    },
    {
      "cell_type": "code",
      "source": [
        "evaluator = MulticlassClassificationEvaluator()\n",
        "evaluator.setLabelCol('variety_num')\n",
        "evaluator.setPredictionCol('prediction');"
      ],
      "metadata": {
        "id": "eCsqflLE99QS"
      },
      "execution_count": 37,
      "outputs": []
    },
    {
      "cell_type": "code",
      "source": [
        "print('Оценка качества модели на обучающей выборке: ', round(evaluator.evaluate(train_tr_res), 4))\n",
        "print('Оценка качества модели на тестовой выборке: ', round(evaluator.evaluate(test_tr_res), 4))"
      ],
      "metadata": {
        "colab": {
          "base_uri": "https://localhost:8080/"
        },
        "id": "9SM6Thh8-oRG",
        "outputId": "bfe0db88-e7af-4667-a4f7-479fcc6cf75f"
      },
      "execution_count": 46,
      "outputs": [
        {
          "output_type": "stream",
          "name": "stdout",
          "text": [
            "Оценка качества модели на обучающей выборке:  0.9762\n",
            "Оценка качества модели на тестовой выборке:  1.0\n"
          ]
        }
      ]
    },
    {
      "cell_type": "markdown",
      "source": [
        "###Датасет очень простой, поэтому Random Forest показывает идеальный результат на тестовой выборке"
      ],
      "metadata": {
        "id": "sUWiSO9K_svS"
      }
    },
    {
      "cell_type": "code",
      "source": [
        "train_tr_res.show()"
      ],
      "metadata": {
        "colab": {
          "base_uri": "https://localhost:8080/"
        },
        "id": "HriALg3P-YWs",
        "outputId": "4dd60d6a-c4ad-4e0a-8bb2-dcbd7c0ed1fc"
      },
      "execution_count": 47,
      "outputs": [
        {
          "output_type": "stream",
          "name": "stdout",
          "text": [
            "+------------+-----------+------------+-----------+----------+-----------+-----------------+--------------------+--------------------+----------+\n",
            "|sepal_length|sepal_width|petal_length|petal_width|   variety|variety_num|         Features|       rawPrediction|         probability|prediction|\n",
            "+------------+-----------+------------+-----------+----------+-----------+-----------------+--------------------+--------------------+----------+\n",
            "|         4.3|        3.0|         1.1|        0.1|    Setosa|          0|[4.3,3.0,1.1,0.1]|[29.9259259259259...|[0.99753086419753...|       0.0|\n",
            "|         4.4|        2.9|         1.4|        0.2|    Setosa|          0|[4.4,2.9,1.4,0.2]|[29.9259259259259...|[0.99753086419753...|       0.0|\n",
            "|         4.4|        3.2|         1.3|        0.2|    Setosa|          0|[4.4,3.2,1.3,0.2]|[29.9259259259259...|[0.99753086419753...|       0.0|\n",
            "|         4.5|        2.3|         1.3|        0.3|    Setosa|          0|[4.5,2.3,1.3,0.3]|[29.0509259259259...|[0.96836419753086...|       0.0|\n",
            "|         4.6|        3.1|         1.5|        0.2|    Setosa|          0|[4.6,3.1,1.5,0.2]|[29.9259259259259...|[0.99753086419753...|       0.0|\n",
            "|         4.6|        3.4|         1.4|        0.3|    Setosa|          0|[4.6,3.4,1.4,0.3]|[29.9259259259259...|[0.99753086419753...|       0.0|\n",
            "|         4.7|        3.2|         1.3|        0.2|    Setosa|          0|[4.7,3.2,1.3,0.2]|[29.9259259259259...|[0.99753086419753...|       0.0|\n",
            "|         4.7|        3.2|         1.6|        0.2|    Setosa|          0|[4.7,3.2,1.6,0.2]|[29.9259259259259...|[0.99753086419753...|       0.0|\n",
            "|         4.8|        3.0|         1.4|        0.1|    Setosa|          0|[4.8,3.0,1.4,0.1]|[29.9259259259259...|[0.99753086419753...|       0.0|\n",
            "|         4.8|        3.0|         1.4|        0.3|    Setosa|          0|[4.8,3.0,1.4,0.3]|[29.9259259259259...|[0.99753086419753...|       0.0|\n",
            "|         4.8|        3.4|         1.6|        0.2|    Setosa|          0|[4.8,3.4,1.6,0.2]|[29.9259259259259...|[0.99753086419753...|       0.0|\n",
            "|         4.8|        3.4|         1.9|        0.2|    Setosa|          0|[4.8,3.4,1.9,0.2]|[27.9259259259259...|[0.93086419753086...|       0.0|\n",
            "|         4.9|        2.4|         3.3|        1.0|Versicolor|          1|[4.9,2.4,3.3,1.0]|[1.05092592592592...|[0.03503086419753...|       1.0|\n",
            "|         4.9|        2.5|         4.5|        1.7| Virginica|          2|[4.9,2.5,4.5,1.7]|[0.92592592592592...|[0.03086419753086...|       2.0|\n",
            "|         4.9|        3.0|         1.4|        0.2|    Setosa|          0|[4.9,3.0,1.4,0.2]|[29.9259259259259...|[0.99753086419753...|       0.0|\n",
            "|         4.9|        3.1|         1.5|        0.2|    Setosa|          0|[4.9,3.1,1.5,0.2]|[29.9259259259259...|[0.99753086419753...|       0.0|\n",
            "|         4.9|        3.6|         1.4|        0.1|    Setosa|          0|[4.9,3.6,1.4,0.1]|[29.9259259259259...|[0.99753086419753...|       0.0|\n",
            "|         5.0|        2.0|         3.5|        1.0|Versicolor|          1|[5.0,2.0,3.5,1.0]|[1.05092592592592...|[0.03503086419753...|       1.0|\n",
            "|         5.0|        3.0|         1.6|        0.2|    Setosa|          0|[5.0,3.0,1.6,0.2]|[29.9259259259259...|[0.99753086419753...|       0.0|\n",
            "|         5.0|        3.2|         1.2|        0.2|    Setosa|          0|[5.0,3.2,1.2,0.2]|[29.9259259259259...|[0.99753086419753...|       0.0|\n",
            "+------------+-----------+------------+-----------+----------+-----------+-----------------+--------------------+--------------------+----------+\n",
            "only showing top 20 rows\n",
            "\n"
          ]
        }
      ]
    }
  ]
}