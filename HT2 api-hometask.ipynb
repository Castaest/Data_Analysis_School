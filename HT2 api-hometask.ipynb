{
 "cells": [
  {
   "cell_type": "markdown",
   "metadata": {},
   "source": [
    "# Задание\n",
    "* Cкачайте все вакансии СБЕРа из api hh.ru (https://github.com/hhru/api у апи есть ограничение в 2000, подумайте как его обойти)\n",
    "* Извлеките все полные описания этих вакансий по запросу с https://api.hh.ru/vacancies/43326020 где 43326020 id вакансии\n",
    "* Создайте DataFrame в котором будут даты публикации вакансий, названия, описания,  только добавьте поле ключевые навыки\n",
    "* Переведите даты публикаций в формат datetime и постройте график опубликованных вакансий по датам\n",
    "* Переведите даты в дни недели, и определите день недели, в который больше всего публикуют вакансий\n",
    "* Найдите вакансии с использованием python, которые вам интересны\n",
    "* Определите по полю с ключевыми навыками, какие навыки больше всего востребованы для найденных вакансий\n",
    "* Постройте график наиболее востребованных навыков"
   ]
  },
  {
   "cell_type": "code",
   "execution_count": 1,
   "metadata": {},
   "outputs": [],
   "source": [
    "import requests\n",
    "from tqdm.auto import tqdm"
   ]
  },
  {
   "cell_type": "code",
   "execution_count": 2,
   "metadata": {},
   "outputs": [],
   "source": [
    "sber = '3529'\n",
    "page = 1\n",
    "num_per_page = 100\n",
    "moscow = 1\n",
    "url = f'https://api.hh.ru/vacancies?employer_id={sber}&page={page}&per_page={num_per_page}' #&area={moscow}"
   ]
  },
  {
   "cell_type": "code",
   "execution_count": 3,
   "metadata": {},
   "outputs": [
    {
     "data": {
      "text/plain": [
       "20"
      ]
     },
     "execution_count": 3,
     "metadata": {},
     "output_type": "execute_result"
    }
   ],
   "source": [
    "res = requests.get(url)\n",
    "vacancies = res.json()\n",
    "num_pages = vacancies.get('pages')\n",
    "num_pages"
   ]
  },
  {
   "cell_type": "code",
   "execution_count": 4,
   "metadata": {},
   "outputs": [],
   "source": [
    "vacancies = res.json()\n",
    "num_pages = vacancies.get('pages')\n",
    "vacancy_ids = [el.get('id') for el in vacancies.get('items')]"
   ]
  },
  {
   "cell_type": "code",
   "execution_count": 7,
   "metadata": {},
   "outputs": [
    {
     "data": {
      "application/vnd.jupyter.widget-view+json": {
       "model_id": "b4697112957b4d21bd251a1cc7bb6fb0",
       "version_major": 2,
       "version_minor": 0
      },
      "text/plain": [
       "HBox(children=(HTML(value=''), FloatProgress(value=0.0, max=20.0), HTML(value='')))"
      ]
     },
     "metadata": {},
     "output_type": "display_data"
    },
    {
     "name": "stdout",
     "output_type": "stream",
     "text": [
      "\n"
     ]
    }
   ],
   "source": [
    "all_vacancy_ids= []\n",
    "for i in tqdm(range(vacancies.get('pages'))):\n",
    "    url = f'https://api.hh.ru/vacancies?employer_id={sber}&page={i}&per_page={num_per_page}' #&area={moscow}\n",
    "    res = requests.get(url)\n",
    "    vacancies = res.json()\n",
    "    vacancy_ids = [el.get('id') for el in vacancies.get('items')]\n",
    "    all_vacancy_ids.extend(vacancy_ids)"
   ]
  },
  {
   "cell_type": "code",
   "execution_count": 45,
   "metadata": {},
   "outputs": [
    {
     "data": {
      "application/vnd.jupyter.widget-view+json": {
       "model_id": "cb31436a91884cd4afa7588164a9948b",
       "version_major": 2,
       "version_minor": 0
      },
      "text/plain": [
       "HBox(children=(HTML(value=''), FloatProgress(value=0.0, max=1861.0), HTML(value='')))"
      ]
     },
     "metadata": {},
     "output_type": "display_data"
    },
    {
     "name": "stdout",
     "output_type": "stream",
     "text": [
      "\n"
     ]
    }
   ],
   "source": [
    "# Я дважды запускал эту ячейку - в первый раз до 139 записи, а второй - до конца списка вакансий\n",
    "\n",
    "import time\n",
    "\n",
    "#data = []\n",
    "for i in tqdm(range(len(data), len(all_vacancy_ids))):\n",
    "    url = f'https://api.hh.ru/vacancies/{all_vacancy_ids[i]}'\n",
    "    res = requests.get(url)\n",
    "    if 'errors' in res.json():\n",
    "        print(f'Индекс необработанной вакансии: {i}')\n",
    "        break\n",
    "    data.append(res.json())\n",
    "    time.sleep(10)"
   ]
  },
  {
   "cell_type": "code",
   "execution_count": 184,
   "metadata": {},
   "outputs": [
    {
     "data": {
      "text/plain": [
       "2000"
      ]
     },
     "execution_count": 184,
     "metadata": {},
     "output_type": "execute_result"
    }
   ],
   "source": [
    "len(data)"
   ]
  },
  {
   "cell_type": "code",
   "execution_count": 48,
   "metadata": {},
   "outputs": [],
   "source": [
    "dates = [i['published_at'] for i in data]\n",
    "names = [i['name'] for i in data]\n",
    "descriptions = [i['description'] for i in data]\n",
    "skills = [i['key_skills'] for i in data]"
   ]
  },
  {
   "cell_type": "code",
   "execution_count": 82,
   "metadata": {},
   "outputs": [],
   "source": [
    "import pandas as pd\n",
    "df = pd.DataFrame(\n",
    "    {'date': dates,\n",
    "     'name': names,\n",
    "     'description': descriptions,\n",
    "     'key_skills': skills\n",
    "    })"
   ]
  },
  {
   "cell_type": "code",
   "execution_count": 90,
   "metadata": {
    "scrolled": true
   },
   "outputs": [
    {
     "data": {
      "text/html": [
       "<div>\n",
       "<style scoped>\n",
       "    .dataframe tbody tr th:only-of-type {\n",
       "        vertical-align: middle;\n",
       "    }\n",
       "\n",
       "    .dataframe tbody tr th {\n",
       "        vertical-align: top;\n",
       "    }\n",
       "\n",
       "    .dataframe thead th {\n",
       "        text-align: right;\n",
       "    }\n",
       "</style>\n",
       "<table border=\"1\" class=\"dataframe\">\n",
       "  <thead>\n",
       "    <tr style=\"text-align: right;\">\n",
       "      <th></th>\n",
       "      <th>date</th>\n",
       "      <th>name</th>\n",
       "      <th>description</th>\n",
       "      <th>key_skills</th>\n",
       "      <th>weekday</th>\n",
       "    </tr>\n",
       "  </thead>\n",
       "  <tbody>\n",
       "    <tr>\n",
       "      <th>1995</th>\n",
       "      <td>2023-02-20</td>\n",
       "      <td>Старший менеджер по обслуживанию (д. Новые Мур...</td>\n",
       "      <td>&lt;p&gt;Сбер — это 14 тысяч подразделений и лучший ...</td>\n",
       "      <td>[]</td>\n",
       "      <td>0</td>\n",
       "    </tr>\n",
       "    <tr>\n",
       "      <th>1996</th>\n",
       "      <td>2023-02-17</td>\n",
       "      <td>Кредитный инспектор корпоративного канала</td>\n",
       "      <td>&lt;p&gt;Сбер — лучший работодатель России. У нас бо...</td>\n",
       "      <td>[]</td>\n",
       "      <td>4</td>\n",
       "    </tr>\n",
       "    <tr>\n",
       "      <th>1997</th>\n",
       "      <td>2023-02-19</td>\n",
       "      <td>Ведущий инженер по сопровождению</td>\n",
       "      <td>&lt;p&gt;Мы ищем Support Data Engineer, имеющего мат...</td>\n",
       "      <td>[]</td>\n",
       "      <td>6</td>\n",
       "    </tr>\n",
       "    <tr>\n",
       "      <th>1998</th>\n",
       "      <td>2023-03-17</td>\n",
       "      <td>Аналитик / Руководитель направления в отдел ко...</td>\n",
       "      <td>&lt;p&gt;&lt;strong&gt;Обязанности:&lt;/strong&gt;&lt;/p&gt; &lt;ul&gt; &lt;li&gt;...</td>\n",
       "      <td>[]</td>\n",
       "      <td>4</td>\n",
       "    </tr>\n",
       "    <tr>\n",
       "      <th>1999</th>\n",
       "      <td>2023-03-14</td>\n",
       "      <td>Старший менеджер по обслуживанию, г.Тула</td>\n",
       "      <td>&lt;p&gt;Мы ищем старших менеджеров по обслуживанию ...</td>\n",
       "      <td>[]</td>\n",
       "      <td>1</td>\n",
       "    </tr>\n",
       "  </tbody>\n",
       "</table>\n",
       "</div>"
      ],
      "text/plain": [
       "            date                                               name  \\\n",
       "1995  2023-02-20  Старший менеджер по обслуживанию (д. Новые Мур...   \n",
       "1996  2023-02-17          Кредитный инспектор корпоративного канала   \n",
       "1997  2023-02-19                   Ведущий инженер по сопровождению   \n",
       "1998  2023-03-17  Аналитик / Руководитель направления в отдел ко...   \n",
       "1999  2023-03-14           Старший менеджер по обслуживанию, г.Тула   \n",
       "\n",
       "                                            description key_skills  weekday  \n",
       "1995  <p>Сбер — это 14 тысяч подразделений и лучший ...         []        0  \n",
       "1996  <p>Сбер — лучший работодатель России. У нас бо...         []        4  \n",
       "1997  <p>Мы ищем Support Data Engineer, имеющего мат...         []        6  \n",
       "1998  <p><strong>Обязанности:</strong></p> <ul> <li>...         []        4  \n",
       "1999  <p>Мы ищем старших менеджеров по обслуживанию ...         []        1  "
      ]
     },
     "execution_count": 90,
     "metadata": {},
     "output_type": "execute_result"
    }
   ],
   "source": [
    "df.tail()"
   ]
  },
  {
   "cell_type": "code",
   "execution_count": 51,
   "metadata": {},
   "outputs": [],
   "source": [
    "df.to_csv('vacancies.csv')"
   ]
  },
  {
   "cell_type": "code",
   "execution_count": 84,
   "metadata": {},
   "outputs": [],
   "source": [
    "# Переведите даты публикаций в формат datetime\n",
    "\n",
    "from datetime import datetime\n",
    "\n",
    "df['date'] =  pd.to_datetime(df['date'], format = '%Y-%m-%dT%H:%M:%S%z', errors='coerce').dt.date"
   ]
  },
  {
   "cell_type": "code",
   "execution_count": 86,
   "metadata": {
    "scrolled": true
   },
   "outputs": [
    {
     "data": {
      "image/png": "[encoded data removed]",
      "text/plain": [
       "<Figure size 1152x360 with 1 Axes>"
      ]
     },
     "metadata": {
      "needs_background": "light"
     },
     "output_type": "display_data"
    }
   ],
   "source": [
    "# Постройте график опубликованных вакансий по датам\n",
    "\n",
    "import matplotlib.pyplot as plt\n",
    "\n",
    "df2 = df.groupby(['date'])['date'].count()\n",
    "\n",
    "plt.figure(figsize = (16, 5))\n",
    "plt.plot(df2.index, df2)\n",
    "plt.show()\n"
   ]
  },
  {
   "cell_type": "code",
   "execution_count": 92,
   "metadata": {},
   "outputs": [
    {
     "name": "stdout",
     "output_type": "stream",
     "text": [
      "Больше всего вакансий публикуют в понедельник\n"
     ]
    },
    {
     "data": {
      "text/plain": [
       "weekday\n",
       "0    412\n",
       "1    348\n",
       "2    282\n",
       "3    372\n",
       "4    406\n",
       "5     76\n",
       "6    104\n",
       "Name: weekday, dtype: int64"
      ]
     },
     "execution_count": 92,
     "metadata": {},
     "output_type": "execute_result"
    }
   ],
   "source": [
    "# Переведите даты в дни недели, и определите день недели, в который больше всего публикуют вакансий\n",
    "\n",
    "df['weekday'] = pd.to_datetime(df['date'], errors = 'coerce').dt.dayofweek\n",
    "df3 = df.groupby(['weekday'])['weekday'].count()\n",
    "print('Больше всего вакансий публикуют в понедельник')\n",
    "df3.head(7)"
   ]
  },
  {
   "cell_type": "code",
   "execution_count": 173,
   "metadata": {},
   "outputs": [
    {
     "name": "stdout",
     "output_type": "stream",
     "text": [
      "Найдены 42 интересных мне вакансии, в которых упоминается Python\n"
     ]
    }
   ],
   "source": [
    "# Найдите вакансии с использованием python, которые вам интересны\n",
    "\n",
    "mask = df['description'].str.contains('исследова') & ~(df['name'].str.contains('тажер')) & ~(df['name'].str.contains('изайнер')) \\\n",
    "    & ~(df['name'].str.contains('разработчик')) & ~(df['name'].str.contains('eveloper')) & ~(df['name'].str.contains('енеджер')) \\\n",
    "    & ~(df['name'].str.contains('хранник')) & ~(df['name'].str.contains('нженер')) & ~(df['description'].str.lower().str.contains('python'))\n",
    "\n",
    "print(f'Найдены {df[mask].shape[0]} интересных мне вакансии, в которых упоминается Python')"
   ]
  },
  {
   "cell_type": "code",
   "execution_count": 176,
   "metadata": {},
   "outputs": [
    {
     "data": {
      "text/html": [
       "<div>\n",
       "<style scoped>\n",
       "    .dataframe tbody tr th:only-of-type {\n",
       "        vertical-align: middle;\n",
       "    }\n",
       "\n",
       "    .dataframe tbody tr th {\n",
       "        vertical-align: top;\n",
       "    }\n",
       "\n",
       "    .dataframe thead th {\n",
       "        text-align: right;\n",
       "    }\n",
       "</style>\n",
       "<table border=\"1\" class=\"dataframe\">\n",
       "  <thead>\n",
       "    <tr style=\"text-align: right;\">\n",
       "      <th></th>\n",
       "      <th>skill</th>\n",
       "      <th>num</th>\n",
       "    </tr>\n",
       "  </thead>\n",
       "  <tbody>\n",
       "    <tr>\n",
       "      <th>0</th>\n",
       "      <td>Figma</td>\n",
       "      <td>3</td>\n",
       "    </tr>\n",
       "    <tr>\n",
       "      <th>1</th>\n",
       "      <td>Английский язык</td>\n",
       "      <td>3</td>\n",
       "    </tr>\n",
       "    <tr>\n",
       "      <th>2</th>\n",
       "      <td>BPMN</td>\n",
       "      <td>3</td>\n",
       "    </tr>\n",
       "    <tr>\n",
       "      <th>3</th>\n",
       "      <td>UX</td>\n",
       "      <td>2</td>\n",
       "    </tr>\n",
       "    <tr>\n",
       "      <th>4</th>\n",
       "      <td>MS PowerPoint</td>\n",
       "      <td>2</td>\n",
       "    </tr>\n",
       "  </tbody>\n",
       "</table>\n",
       "</div>"
      ],
      "text/plain": [
       "             skill  num\n",
       "0            Figma    3\n",
       "1  Английский язык    3\n",
       "2             BPMN    3\n",
       "3               UX    2\n",
       "4    MS PowerPoint    2"
      ]
     },
     "execution_count": 176,
     "metadata": {},
     "output_type": "execute_result"
    }
   ],
   "source": [
    "# Определите по полю с ключевыми навыками, какие навыки больше всего востребованы для найденных вакансий\n",
    "\n",
    "from collections import Counter\n",
    "\n",
    "x = list(df[mask]['key_skills'].apply(pd.Series).stack().reset_index(drop = True))\n",
    "res = Counter([d['name'] for d in x]).most_common()\n",
    "df4 = pd.DataFrame(res, columns = ['skill', 'num'])\n",
    "df4.head()"
   ]
  },
  {
   "cell_type": "code",
   "execution_count": 183,
   "metadata": {},
   "outputs": [
    {
     "data": {
      "image/png": "[encoded data removed]",
      "text/plain": [
       "<Figure size 1152x360 with 1 Axes>"
      ]
     },
     "metadata": {
      "needs_background": "light"
     },
     "output_type": "display_data"
    }
   ],
   "source": [
    "# Постройте график наиболее востребованных навыков - я опустил те навыки, которые встречаются только один раз\n",
    "\n",
    "fig = plt.figure(figsize = (16, 5))\n",
    "ax = fig.add_axes([0, 0, 1, 1])\n",
    "ax.bar(df4[df4['num'] > 1]['skill'], df4[df4['num'] > 1]['num'])\n",
    "plt.xticks(rotation = 90)\n",
    "plt.show()"
   ]
  }
 ],
 "metadata": {
  "kernelspec": {
   "display_name": "Python 3",
   "language": "python",
   "name": "python3"
  },
  "language_info": {
   "codemirror_mode": {
    "name": "ipython",
    "version": 3
   },
   "file_extension": ".py",
   "mimetype": "text/x-python",
   "name": "python",
   "nbconvert_exporter": "python",
   "pygments_lexer": "ipython3",
   "version": "3.8.5"
  }
 },
 "nbformat": 4,
 "nbformat_minor": 4
}
